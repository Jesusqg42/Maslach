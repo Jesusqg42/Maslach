{
  "nbformat": 4,
  "nbformat_minor": 0,
  "metadata": {
    "colab": {
      "provenance": [],
      "include_colab_link": true
    },
    "kernelspec": {
      "name": "python3",
      "display_name": "Python 3"
    },
    "language_info": {
      "name": "python"
    }
  },
  "cells": [
    {
      "cell_type": "markdown",
      "metadata": {
        "id": "view-in-github",
        "colab_type": "text"
      },
      "source": [
        "<a href=\"https://colab.research.google.com/github/albalopezdevesa/HackForGood2024/blob/main/Clustering_Burnout.ipynb\" target=\"_parent\"><img src=\"https://colab.research.google.com/assets/colab-badge.svg\" alt=\"Open In Colab\"/></a>"
      ]
    },
    {
      "cell_type": "markdown",
      "source": [
        "# Carga de la base de datos"
      ],
      "metadata": {
        "id": "XWcTPuXUOPLe"
      }
    },
    {
      "cell_type": "code",
      "source": [
        "# Instala las bibliotecas necesarias\n",
        "!pip install scikit-learn pandas category_encoders"
      ],
      "metadata": {
        "colab": {
          "base_uri": "https://localhost:8080/"
        },
        "id": "T2qiv-yHYe8R",
        "outputId": "f85280f3-76d6-4265-e67e-1cef2bf81c65"
      },
      "execution_count": null,
      "outputs": [
        {
          "output_type": "stream",
          "name": "stdout",
          "text": [
            "Requirement already satisfied: scikit-learn in /usr/local/lib/python3.10/dist-packages (1.2.2)\n",
            "Requirement already satisfied: pandas in /usr/local/lib/python3.10/dist-packages (1.5.3)\n",
            "Requirement already satisfied: category_encoders in /usr/local/lib/python3.10/dist-packages (2.6.3)\n",
            "Requirement already satisfied: numpy>=1.17.3 in /usr/local/lib/python3.10/dist-packages (from scikit-learn) (1.25.2)\n",
            "Requirement already satisfied: scipy>=1.3.2 in /usr/local/lib/python3.10/dist-packages (from scikit-learn) (1.11.4)\n",
            "Requirement already satisfied: joblib>=1.1.1 in /usr/local/lib/python3.10/dist-packages (from scikit-learn) (1.3.2)\n",
            "Requirement already satisfied: threadpoolctl>=2.0.0 in /usr/local/lib/python3.10/dist-packages (from scikit-learn) (3.3.0)\n",
            "Requirement already satisfied: python-dateutil>=2.8.1 in /usr/local/lib/python3.10/dist-packages (from pandas) (2.8.2)\n",
            "Requirement already satisfied: pytz>=2020.1 in /usr/local/lib/python3.10/dist-packages (from pandas) (2023.4)\n",
            "Requirement already satisfied: statsmodels>=0.9.0 in /usr/local/lib/python3.10/dist-packages (from category_encoders) (0.14.1)\n",
            "Requirement already satisfied: patsy>=0.5.1 in /usr/local/lib/python3.10/dist-packages (from category_encoders) (0.5.6)\n",
            "Requirement already satisfied: six in /usr/local/lib/python3.10/dist-packages (from patsy>=0.5.1->category_encoders) (1.16.0)\n",
            "Requirement already satisfied: packaging>=21.3 in /usr/local/lib/python3.10/dist-packages (from statsmodels>=0.9.0->category_encoders) (24.0)\n"
          ]
        }
      ]
    },
    {
      "cell_type": "markdown",
      "source": [
        "Se importan librerías y archivos a emplear."
      ],
      "metadata": {
        "id": "jyb5WOKhhIsX"
      }
    },
    {
      "cell_type": "code",
      "execution_count": null,
      "metadata": {
        "colab": {
          "base_uri": "https://localhost:8080/",
          "height": 73
        },
        "id": "yiQweRsGW207",
        "outputId": "a6caf2b1-0302-4f5c-d894-5cb179f00726"
      },
      "outputs": [
        {
          "output_type": "display_data",
          "data": {
            "text/plain": [
              "<IPython.core.display.HTML object>"
            ],
            "text/html": [
              "\n",
              "     <input type=\"file\" id=\"files-364931cf-77db-419b-8bd2-a20aa99c844d\" name=\"files[]\" multiple disabled\n",
              "        style=\"border:none\" />\n",
              "     <output id=\"result-364931cf-77db-419b-8bd2-a20aa99c844d\">\n",
              "      Upload widget is only available when the cell has been executed in the\n",
              "      current browser session. Please rerun this cell to enable.\n",
              "      </output>\n",
              "      <script>// Copyright 2017 Google LLC\n",
              "//\n",
              "// Licensed under the Apache License, Version 2.0 (the \"License\");\n",
              "// you may not use this file except in compliance with the License.\n",
              "// You may obtain a copy of the License at\n",
              "//\n",
              "//      http://www.apache.org/licenses/LICENSE-2.0\n",
              "//\n",
              "// Unless required by applicable law or agreed to in writing, software\n",
              "// distributed under the License is distributed on an \"AS IS\" BASIS,\n",
              "// WITHOUT WARRANTIES OR CONDITIONS OF ANY KIND, either express or implied.\n",
              "// See the License for the specific language governing permissions and\n",
              "// limitations under the License.\n",
              "\n",
              "/**\n",
              " * @fileoverview Helpers for google.colab Python module.\n",
              " */\n",
              "(function(scope) {\n",
              "function span(text, styleAttributes = {}) {\n",
              "  const element = document.createElement('span');\n",
              "  element.textContent = text;\n",
              "  for (const key of Object.keys(styleAttributes)) {\n",
              "    element.style[key] = styleAttributes[key];\n",
              "  }\n",
              "  return element;\n",
              "}\n",
              "\n",
              "// Max number of bytes which will be uploaded at a time.\n",
              "const MAX_PAYLOAD_SIZE = 100 * 1024;\n",
              "\n",
              "function _uploadFiles(inputId, outputId) {\n",
              "  const steps = uploadFilesStep(inputId, outputId);\n",
              "  const outputElement = document.getElementById(outputId);\n",
              "  // Cache steps on the outputElement to make it available for the next call\n",
              "  // to uploadFilesContinue from Python.\n",
              "  outputElement.steps = steps;\n",
              "\n",
              "  return _uploadFilesContinue(outputId);\n",
              "}\n",
              "\n",
              "// This is roughly an async generator (not supported in the browser yet),\n",
              "// where there are multiple asynchronous steps and the Python side is going\n",
              "// to poll for completion of each step.\n",
              "// This uses a Promise to block the python side on completion of each step,\n",
              "// then passes the result of the previous step as the input to the next step.\n",
              "function _uploadFilesContinue(outputId) {\n",
              "  const outputElement = document.getElementById(outputId);\n",
              "  const steps = outputElement.steps;\n",
              "\n",
              "  const next = steps.next(outputElement.lastPromiseValue);\n",
              "  return Promise.resolve(next.value.promise).then((value) => {\n",
              "    // Cache the last promise value to make it available to the next\n",
              "    // step of the generator.\n",
              "    outputElement.lastPromiseValue = value;\n",
              "    return next.value.response;\n",
              "  });\n",
              "}\n",
              "\n",
              "/**\n",
              " * Generator function which is called between each async step of the upload\n",
              " * process.\n",
              " * @param {string} inputId Element ID of the input file picker element.\n",
              " * @param {string} outputId Element ID of the output display.\n",
              " * @return {!Iterable<!Object>} Iterable of next steps.\n",
              " */\n",
              "function* uploadFilesStep(inputId, outputId) {\n",
              "  const inputElement = document.getElementById(inputId);\n",
              "  inputElement.disabled = false;\n",
              "\n",
              "  const outputElement = document.getElementById(outputId);\n",
              "  outputElement.innerHTML = '';\n",
              "\n",
              "  const pickedPromise = new Promise((resolve) => {\n",
              "    inputElement.addEventListener('change', (e) => {\n",
              "      resolve(e.target.files);\n",
              "    });\n",
              "  });\n",
              "\n",
              "  const cancel = document.createElement('button');\n",
              "  inputElement.parentElement.appendChild(cancel);\n",
              "  cancel.textContent = 'Cancel upload';\n",
              "  const cancelPromise = new Promise((resolve) => {\n",
              "    cancel.onclick = () => {\n",
              "      resolve(null);\n",
              "    };\n",
              "  });\n",
              "\n",
              "  // Wait for the user to pick the files.\n",
              "  const files = yield {\n",
              "    promise: Promise.race([pickedPromise, cancelPromise]),\n",
              "    response: {\n",
              "      action: 'starting',\n",
              "    }\n",
              "  };\n",
              "\n",
              "  cancel.remove();\n",
              "\n",
              "  // Disable the input element since further picks are not allowed.\n",
              "  inputElement.disabled = true;\n",
              "\n",
              "  if (!files) {\n",
              "    return {\n",
              "      response: {\n",
              "        action: 'complete',\n",
              "      }\n",
              "    };\n",
              "  }\n",
              "\n",
              "  for (const file of files) {\n",
              "    const li = document.createElement('li');\n",
              "    li.append(span(file.name, {fontWeight: 'bold'}));\n",
              "    li.append(span(\n",
              "        `(${file.type || 'n/a'}) - ${file.size} bytes, ` +\n",
              "        `last modified: ${\n",
              "            file.lastModifiedDate ? file.lastModifiedDate.toLocaleDateString() :\n",
              "                                    'n/a'} - `));\n",
              "    const percent = span('0% done');\n",
              "    li.appendChild(percent);\n",
              "\n",
              "    outputElement.appendChild(li);\n",
              "\n",
              "    const fileDataPromise = new Promise((resolve) => {\n",
              "      const reader = new FileReader();\n",
              "      reader.onload = (e) => {\n",
              "        resolve(e.target.result);\n",
              "      };\n",
              "      reader.readAsArrayBuffer(file);\n",
              "    });\n",
              "    // Wait for the data to be ready.\n",
              "    let fileData = yield {\n",
              "      promise: fileDataPromise,\n",
              "      response: {\n",
              "        action: 'continue',\n",
              "      }\n",
              "    };\n",
              "\n",
              "    // Use a chunked sending to avoid message size limits. See b/62115660.\n",
              "    let position = 0;\n",
              "    do {\n",
              "      const length = Math.min(fileData.byteLength - position, MAX_PAYLOAD_SIZE);\n",
              "      const chunk = new Uint8Array(fileData, position, length);\n",
              "      position += length;\n",
              "\n",
              "      const base64 = btoa(String.fromCharCode.apply(null, chunk));\n",
              "      yield {\n",
              "        response: {\n",
              "          action: 'append',\n",
              "          file: file.name,\n",
              "          data: base64,\n",
              "        },\n",
              "      };\n",
              "\n",
              "      let percentDone = fileData.byteLength === 0 ?\n",
              "          100 :\n",
              "          Math.round((position / fileData.byteLength) * 100);\n",
              "      percent.textContent = `${percentDone}% done`;\n",
              "\n",
              "    } while (position < fileData.byteLength);\n",
              "  }\n",
              "\n",
              "  // All done.\n",
              "  yield {\n",
              "    response: {\n",
              "      action: 'complete',\n",
              "    }\n",
              "  };\n",
              "}\n",
              "\n",
              "scope.google = scope.google || {};\n",
              "scope.google.colab = scope.google.colab || {};\n",
              "scope.google.colab._files = {\n",
              "  _uploadFiles,\n",
              "  _uploadFilesContinue,\n",
              "};\n",
              "})(self);\n",
              "</script> "
            ]
          },
          "metadata": {}
        },
        {
          "output_type": "stream",
          "name": "stdout",
          "text": [
            "Saving archivo_modificado.xlsx to archivo_modificado (1).xlsx\n"
          ]
        }
      ],
      "source": [
        "from google.colab import files\n",
        "import openpyxl\n",
        "import pandas as pd\n",
        "import seaborn as sns\n",
        "import matplotlib.pyplot as plt\n",
        "import category_encoders as ce\n",
        "from scipy.cluster.hierarchy import dendrogram, linkage, fcluster\n",
        "from sklearn.model_selection import train_test_split\n",
        "import xgboost as xgb\n",
        "from sklearn.preprocessing import LabelEncoder\n",
        "from sklearn.metrics import accuracy_score\n",
        "from scipy.spatial.distance import pdist\n",
        "\n",
        "# Cargar el archivo Excel desde tu sistema local\n",
        "uploaded = files.upload()"
      ]
    },
    {
      "cell_type": "markdown",
      "source": [
        "Se cargan los resultados de las encuestas y se guardan en la variable df"
      ],
      "metadata": {
        "id": "y0grUx5-hYA0"
      }
    },
    {
      "cell_type": "code",
      "source": [
        "# Lee el archivo Excel\n",
        "df = pd.read_excel('archivo_modificado.xlsx')\n",
        "\n",
        "# Muestra las primeras filas del DataFrame\n",
        "print(df.head())"
      ],
      "metadata": {
        "colab": {
          "base_uri": "https://localhost:8080/"
        },
        "id": "IRzcLmeHYBVX",
        "outputId": "2c294c76-a49c-408a-a4a5-fe691c25de79"
      },
      "execution_count": null,
      "outputs": [
        {
          "output_type": "stream",
          "name": "stdout",
          "text": [
            "  Estudiante.42     Motivacion Eleccion.estudios Gustar.estudios  \\\n",
            "0            No             No                Si              No   \n",
            "1            No      Si, mucho                Si              Si   \n",
            "2            No             No                Si              Si   \n",
            "3            Si      Si, mucho                Si              Si   \n",
            "4            Si  Sí, pero poco                Si              Si   \n",
            "\n",
            "  Aprovechar.tiempo Organizacion Comodo.compañeros  Horas.sueño  \\\n",
            "0                Si    Si, mucho                Si            6   \n",
            "1                Si    Si, mucho                Si            3   \n",
            "2                No     No, nada                Si            7   \n",
            "3                Si  Si, un poco                Si            6   \n",
            "4                Si  Si, un poco                Si            8   \n",
            "\n",
            "  Dormir.suficiente Comidias.diarias Bebidas.energéticas Actividad.fisica  \\\n",
            "0                No         Mas de 3                Nada          5 o mas   \n",
            "1                No       Menos de 3                   1       1 - 2 dias   \n",
            "2                Si         Mas de 3                   1       3 - 4 dias   \n",
            "3                Si       Menos de 3                Nada       1 - 2 dias   \n",
            "4                Si                3                   1       1 - 2 dias   \n",
            "\n",
            "   Tiempo.estudios Metodología Acompañado Ambiente.competitivo  \\\n",
            "0                6          No         No                   No   \n",
            "1                4          Si         Si                   Si   \n",
            "2                2          No         No                   Si   \n",
            "3                8          Si         Si                   No   \n",
            "4                8          Si         Si                   No   \n",
            "\n",
            "  Comodo.competicion Autonomía Presion.tareas Burnout  \n",
            "0                 Si        Si             No      Si  \n",
            "1                 Si        Si             Si      No  \n",
            "2                 Si        Si             No      No  \n",
            "3                 No        Si             Si      Si  \n",
            "4                 Si        Si             No      No  \n"
          ]
        }
      ]
    },
    {
      "cell_type": "markdown",
      "source": [
        "# Preprocesamiento de los datos"
      ],
      "metadata": {
        "id": "9NwgRdqPS0V_"
      }
    },
    {
      "cell_type": "markdown",
      "source": [
        "Se pasan a categórico las variables temporales de estudio y sueño para la comodidad del análisis.\n",
        "\n",
        "Las horas de sueño se dividirán en los intervalos [0,6) $\\cup$ [6,8] $\\cup$ (8,24]\n",
        "\n",
        "El tiempo de estudio se dividirá en los intervalos [0,2) $\\cup$ [2,4] $\\cup$ (4,24]"
      ],
      "metadata": {
        "id": "Oqmu_xgXOb2A"
      }
    },
    {
      "cell_type": "code",
      "source": [
        "# Definir los límites y etiquetas para las categorías\n",
        "limites = [-float('inf'), 6, 8, float('inf')]\n",
        "etiquetas = ['menos de 7', '6 o 8', 'más de 8']\n",
        "\n",
        "# Crear la columna categórica utilizando pd.cut()\n",
        "df['Horas.sueño'] = pd.cut(df['Horas.sueño'], bins=limites, labels=etiquetas, include_lowest=True)\n",
        "\n",
        "# Definir los límites y etiquetas para las categorías\n",
        "limites = [-float('inf'), 2, 4, float('inf')]\n",
        "etiquetas = ['menos de 1', '2 o 4', 'más de 3']\n",
        "\n",
        "# Crear la columna categórica utilizando pd.cut()\n",
        "df['Tiempo.estudios'] = pd.cut(df['Tiempo.estudios'], bins=limites, labels=etiquetas, include_lowest=True)"
      ],
      "metadata": {
        "id": "ZLPHwaD4Qxwg"
      },
      "execution_count": null,
      "outputs": []
    },
    {
      "cell_type": "markdown",
      "source": [
        "Al ser el objetivo del estudio identificar el síndrome de Burnout, nuestra variable objetivo a estudiar será la percepción propia de las personas acerca de su situación actual. Además, de forma adicional, se estudia cómo puede llegar a afectar la metodología de 42 con respecto a las universidades convencionales. Por este motivo, ambas variables son ignoradas a la hora de realizar la agrupación de los estudiantes en base a sus características."
      ],
      "metadata": {
        "id": "pK0SafRQjssg"
      }
    },
    {
      "cell_type": "code",
      "source": [
        "# Lista de columnas a mantener\n",
        "columnas_a_mantener = [col for col in df.columns if col not in ['Estudiante.42', 'Burnout']]\n",
        "\n",
        "# Crear un nuevo DataFrame con las columnas seleccionadas\n",
        "df_util = df[columnas_a_mantener]\n",
        "print(df_util.head())\n",
        "\n",
        "num = 4"
      ],
      "metadata": {
        "colab": {
          "base_uri": "https://localhost:8080/"
        },
        "id": "OJH1o8QyZb41",
        "outputId": "501d53bc-ad0f-4484-9ceb-d1e166d82cdc"
      },
      "execution_count": null,
      "outputs": [
        {
          "output_type": "stream",
          "name": "stdout",
          "text": [
            "      Motivacion Eleccion.estudios Gustar.estudios Aprovechar.tiempo  \\\n",
            "0             No                Si              No                Si   \n",
            "1      Si, mucho                Si              Si                Si   \n",
            "2             No                Si              Si                No   \n",
            "3      Si, mucho                Si              Si                Si   \n",
            "4  Sí, pero poco                Si              Si                Si   \n",
            "\n",
            "  Organizacion Comodo.compañeros Horas.sueño Dormir.suficiente  \\\n",
            "0    Si, mucho                Si  menos de 7                No   \n",
            "1    Si, mucho                Si  menos de 7                No   \n",
            "2     No, nada                Si       6 o 8                Si   \n",
            "3  Si, un poco                Si  menos de 7                Si   \n",
            "4  Si, un poco                Si       6 o 8                Si   \n",
            "\n",
            "  Comidias.diarias Bebidas.energéticas Actividad.fisica Tiempo.estudios  \\\n",
            "0         Mas de 3                Nada          5 o mas        más de 3   \n",
            "1       Menos de 3                   1       1 - 2 dias           2 o 4   \n",
            "2         Mas de 3                   1       3 - 4 dias      menos de 1   \n",
            "3       Menos de 3                Nada       1 - 2 dias        más de 3   \n",
            "4                3                   1       1 - 2 dias        más de 3   \n",
            "\n",
            "  Metodología Acompañado Ambiente.competitivo Comodo.competicion Autonomía  \\\n",
            "0          No         No                   No                 Si        Si   \n",
            "1          Si         Si                   Si                 Si        Si   \n",
            "2          No         No                   Si                 Si        Si   \n",
            "3          Si         Si                   No                 No        Si   \n",
            "4          Si         Si                   No                 Si        Si   \n",
            "\n",
            "  Presion.tareas  \n",
            "0             No  \n",
            "1             Si  \n",
            "2             No  \n",
            "3             Si  \n",
            "4             No  \n"
          ]
        }
      ]
    },
    {
      "cell_type": "markdown",
      "source": [
        "# Clusterización"
      ],
      "metadata": {
        "id": "T3FyNgTVOhew"
      }
    },
    {
      "cell_type": "markdown",
      "source": [
        "Como método de clusterización se emplea el algoritmo de agrupamiento linkage, el cual es un método de análisis de agrupamiento jerárquico que calcula la distancia entre los grupos cercanos para la obtención de los clusters finales.\n",
        "\n",
        "Al tratarse por completo de un análisis sobre variables categóricas, la distancia a emplear es la distancia de Hamming, la cual consiste en lo siguiente:\n",
        "\n",
        "La distancia de Hamming entre dos cadenas de igual longitud es la cantidad de posiciones en las que los símbolos correspondientes son diferentes. La fórmula para la distancia de Hamming se expresa como:\n",
        "\n",
        "$$\n",
        "d_H(x, y) = \\sum_{i=1}^{n} \\delta(x_i, y_i)\n",
        "$$\n",
        "\n",
        "Donde:\n",
        "- \\(d_H(x, y)\\) representa la distancia de Hamming entre las cadenas \\(x\\) e \\(y\\).\n",
        "- \\(n\\) es la longitud de las cadenas.\n",
        "- \\(x_i\\) y \\(y_i\\) son los símbolos en la posición \\(i\\) de las cadenas \\(x\\) e \\(y\\) respectivamente.\n",
        "- \\(\\delta(x_i, y_i)\\) es la función delta de Kronecker, que devuelve 1 si \\(x_i\\) es diferente de \\(y_i\\), y 0 en caso contrario."
      ],
      "metadata": {
        "id": "nJmxk3uWnXxg"
      }
    },
    {
      "cell_type": "code",
      "source": [
        "# Suponiendo que tienes un DataFrame llamado 'df_util' con variables categóricas 'cat_var1', 'cat_var2', etc.\n",
        "column_names = df_util.columns.tolist()\n",
        "\n",
        "# Codifica las variables categóricas utilizando la codificación ordinal de category_encoders\n",
        "encoder = ce.OrdinalEncoder(cols=column_names)\n",
        "encoded_data = encoder.fit_transform(df_util)\n",
        "\n",
        "# Calcula la matriz de distancias utilizando la distancia de Hamming\n",
        "hamming_distances = pdist(encoded_data, metric='hamming')\n",
        "\n",
        "# Calcula la matriz de enlace utilizando el método de enlace completo (complete linkage)\n",
        "Z = linkage(hamming_distances, method='complete')\n",
        "\n",
        "# Grafica el dendrograma para visualizar la jerarquía de clusters\n",
        "plt.figure(figsize=(10, 6))\n",
        "dendrogram(Z, labels=df_util.index)\n",
        "plt.title('Dendrograma de Clustering Jerárquico Aglomerativo (Distancia de Hamming)')\n",
        "plt.xlabel('Índices de Muestras')\n",
        "plt.ylabel('Distancia de Hamming')\n",
        "plt.show()"
      ],
      "metadata": {
        "colab": {
          "base_uri": "https://localhost:8080/",
          "height": 560
        },
        "id": "jeiHLd7_ujXM",
        "outputId": "17eb55f6-175b-4af5-cfa5-06d065e1a089"
      },
      "execution_count": null,
      "outputs": [
        {
          "output_type": "display_data",
          "data": {
            "text/plain": [
              "<Figure size 1000x600 with 1 Axes>"
            ],
            "image/png": "[encoded data removed]"
          },
          "metadata": {}
        }
      ]
    },
    {
      "cell_type": "markdown",
      "source": [
        "Este gráfico es un dendrograma, el cual muestra el orden de formación de los diferentes clústeres. Gracias a esta herramienta, se puede establecer el número de clústeres necesarios para el análisis. A primera vista, se determina que como inicio el número de clústeres a analizar es de 4, buscando obtener una mayor representatividad y la existencia de una diversidad entre los grupos en el menor número de clusters posibles."
      ],
      "metadata": {
        "id": "LFwZJ41br50r"
      }
    },
    {
      "cell_type": "code",
      "source": [
        "num_clusters = num\n",
        "cluster_labels = fcluster(Z, num_clusters, criterion='maxclust')\n",
        "\n",
        "# Añade las etiquetas de los clústeres al DataFrame original\n",
        "df['cluster_label'] = cluster_labels\n",
        "\n",
        "# Muestra los resultados\n",
        "print(df.head())"
      ],
      "metadata": {
        "colab": {
          "base_uri": "https://localhost:8080/"
        },
        "id": "kbQA3tCxvEOO",
        "outputId": "edcd5efa-528e-450f-db0f-deb28298fe7e"
      },
      "execution_count": null,
      "outputs": [
        {
          "output_type": "stream",
          "name": "stdout",
          "text": [
            "  Estudiante.42     Motivacion Eleccion.estudios Gustar.estudios  \\\n",
            "0            No             No                Si              No   \n",
            "1            No      Si, mucho                Si              Si   \n",
            "2            No             No                Si              Si   \n",
            "3            Si      Si, mucho                Si              Si   \n",
            "4            Si  Sí, pero poco                Si              Si   \n",
            "\n",
            "  Aprovechar.tiempo Organizacion Comodo.compañeros Horas.sueño  \\\n",
            "0                Si    Si, mucho                Si  menos de 7   \n",
            "1                Si    Si, mucho                Si  menos de 7   \n",
            "2                No     No, nada                Si       6 o 8   \n",
            "3                Si  Si, un poco                Si  menos de 7   \n",
            "4                Si  Si, un poco                Si       6 o 8   \n",
            "\n",
            "  Dormir.suficiente Comidias.diarias  ... Actividad.fisica Tiempo.estudios  \\\n",
            "0                No         Mas de 3  ...          5 o mas        más de 3   \n",
            "1                No       Menos de 3  ...       1 - 2 dias           2 o 4   \n",
            "2                Si         Mas de 3  ...       3 - 4 dias      menos de 1   \n",
            "3                Si       Menos de 3  ...       1 - 2 dias        más de 3   \n",
            "4                Si                3  ...       1 - 2 dias        más de 3   \n",
            "\n",
            "  Metodología Acompañado Ambiente.competitivo Comodo.competicion Autonomía  \\\n",
            "0          No         No                   No                 Si        Si   \n",
            "1          Si         Si                   Si                 Si        Si   \n",
            "2          No         No                   Si                 Si        Si   \n",
            "3          Si         Si                   No                 No        Si   \n",
            "4          Si         Si                   No                 Si        Si   \n",
            "\n",
            "  Presion.tareas Burnout cluster_label  \n",
            "0             No      Si             4  \n",
            "1             Si      No             2  \n",
            "2             No      No             3  \n",
            "3             Si      Si             1  \n",
            "4             No      No             1  \n",
            "\n",
            "[5 rows x 21 columns]\n"
          ]
        }
      ]
    },
    {
      "cell_type": "markdown",
      "source": [
        "Tras crear los clústeres de acuerdo a las variables de análisis, nos centraremos inicialmente en estudiar si son útiles para clasificar la sensación del síndrome de burnout. Para ello, se recogerá el número de individuos por clúster, así como el porcentaje de ellos que opinan padecer el síndrome."
      ],
      "metadata": {
        "id": "ooUAm-aItgoD"
      }
    },
    {
      "cell_type": "code",
      "source": [
        "for i in range(num):\n",
        "  aux1 = df[df['cluster_label'] == i+1]['Burnout']\n",
        "  aux2 = round(aux1.value_counts().get('Si', 0)/len(aux1), 2)*100\n",
        "  print('Cluster {}\\n\\tNº Elementos: {}\\n\\tSí bornout: {:.0f}%'.format(i+1, len(aux1), aux2))"
      ],
      "metadata": {
        "colab": {
          "base_uri": "https://localhost:8080/"
        },
        "id": "oYMdkJT2vNNa",
        "outputId": "7539d4bf-86d4-45e6-ec87-6d1accb4ac4d"
      },
      "execution_count": null,
      "outputs": [
        {
          "output_type": "stream",
          "name": "stdout",
          "text": [
            "Cluster 1\n",
            "\tNº Elementos: 48\n",
            "\tSí bornout: 17%\n",
            "Cluster 2\n",
            "\tNº Elementos: 24\n",
            "\tSí bornout: 21%\n",
            "Cluster 3\n",
            "\tNº Elementos: 11\n",
            "\tSí bornout: 82%\n",
            "Cluster 4\n",
            "\tNº Elementos: 15\n",
            "\tSí bornout: 47%\n"
          ]
        }
      ]
    },
    {
      "cell_type": "markdown",
      "source": [
        "Los cuatro clústeres obtenidos nos proporcionan una gran información en lo que respecta al síndrome de burnout. Los clústeres 1 y 2 tienen un índice bajo de padecencia, lo cual nos indica que estos clústeres poseerán ciertas características positivas a la hora de prevenir el síndrome de burnout. Como contraparte, el clúster 3 representa en gran medida a aquellos estudiantes que consideran estar quemados, y por ello poseerán las características más negativas. En un punto intermedio se encuentra el clúster 4, en el cual la mitad de los alumnos afirman sufrir el síndrome. Este grupo está formado por aquellas personas que, en un punto medio, poseen características significativas para padecer el síndrome pero no en gran medida."
      ],
      "metadata": {
        "id": "ufmYZT31t0LO"
      }
    },
    {
      "cell_type": "code",
      "source": [
        "column_labels = df.columns.tolist()[:-1]"
      ],
      "metadata": {
        "id": "zLv-WdE-8yXD"
      },
      "execution_count": null,
      "outputs": []
    },
    {
      "cell_type": "markdown",
      "source": [
        "**Análisis cluster 1**"
      ],
      "metadata": {
        "id": "4Hm6j3LxOxEE"
      }
    },
    {
      "cell_type": "code",
      "source": [
        "df_cluster1 = df[df['cluster_label'] == 1]\n",
        "\n",
        "df_conclusiones1 = pd.DataFrame([], columns=['Nombres', 'Porcentajes'])\n",
        "\n",
        "nombres = []\n",
        "porcentajes = []\n",
        "\n",
        "for i in column_labels:\n",
        "  aux1 = df_cluster1[i].value_counts()\n",
        "  nombres.append(aux1.idxmax())\n",
        "  porcentajes.append(aux1.max()/len(df_cluster1)*100)\n",
        "\n",
        "df_conclusiones1['Nombres'] = nombres\n",
        "df_conclusiones1['Porcentajes'] = porcentajes\n",
        "\n",
        "nuevos_indices = {i: label for i, label in enumerate(column_labels)}\n",
        "df_conclusiones1 = df_conclusiones1.rename(index=nuevos_indices)\n",
        "\n",
        "df_conclusiones1[df_conclusiones1['Porcentajes']>=70].sort_values(by='Porcentajes', ascending=False)"
      ],
      "metadata": {
        "colab": {
          "base_uri": "https://localhost:8080/",
          "height": 425
        },
        "id": "I6XRbnpN8rA2",
        "outputId": "2741cf2a-6e58-4dd0-812a-7f7c40f0a25a"
      },
      "execution_count": null,
      "outputs": [
        {
          "output_type": "execute_result",
          "data": {
            "text/plain": [
              "                     Nombres  Porcentajes\n",
              "Gustar.estudios           Si   100.000000\n",
              "Motivacion         Si, mucho    95.833333\n",
              "Comodo.compañeros         Si    95.833333\n",
              "Eleccion.estudios         Si    93.750000\n",
              "Aprovechar.tiempo         Si    91.666667\n",
              "Dormir.suficiente         Si    89.583333\n",
              "Autonomía                 Si    89.583333\n",
              "Metodología               Si    83.333333\n",
              "Acompañado                Si    83.333333\n",
              "Burnout                   No    83.333333\n",
              "Horas.sueño            6 o 8    79.166667\n",
              "Presion.tareas            Si    75.000000"
            ],
            "text/html": [
              "\n",
              "  <div id=\"df-7bea2a05-4a51-4eeb-9e69-674935f54a19\" class=\"colab-df-container\">\n",
              "    <div>\n",
              "<style scoped>\n",
              "    .dataframe tbody tr th:only-of-type {\n",
              "        vertical-align: middle;\n",
              "    }\n",
              "\n",
              "    .dataframe tbody tr th {\n",
              "        vertical-align: top;\n",
              "    }\n",
              "\n",
              "    .dataframe thead th {\n",
              "        text-align: right;\n",
              "    }\n",
              "</style>\n",
              "<table border=\"1\" class=\"dataframe\">\n",
              "  <thead>\n",
              "    <tr style=\"text-align: right;\">\n",
              "      <th></th>\n",
              "      <th>Nombres</th>\n",
              "      <th>Porcentajes</th>\n",
              "    </tr>\n",
              "  </thead>\n",
              "  <tbody>\n",
              "    <tr>\n",
              "      <th>Gustar.estudios</th>\n",
              "      <td>Si</td>\n",
              "      <td>100.000000</td>\n",
              "    </tr>\n",
              "    <tr>\n",
              "      <th>Motivacion</th>\n",
              "      <td>Si, mucho</td>\n",
              "      <td>95.833333</td>\n",
              "    </tr>\n",
              "    <tr>\n",
              "      <th>Comodo.compañeros</th>\n",
              "      <td>Si</td>\n",
              "      <td>95.833333</td>\n",
              "    </tr>\n",
              "    <tr>\n",
              "      <th>Eleccion.estudios</th>\n",
              "      <td>Si</td>\n",
              "      <td>93.750000</td>\n",
              "    </tr>\n",
              "    <tr>\n",
              "      <th>Aprovechar.tiempo</th>\n",
              "      <td>Si</td>\n",
              "      <td>91.666667</td>\n",
              "    </tr>\n",
              "    <tr>\n",
              "      <th>Dormir.suficiente</th>\n",
              "      <td>Si</td>\n",
              "      <td>89.583333</td>\n",
              "    </tr>\n",
              "    <tr>\n",
              "      <th>Autonomía</th>\n",
              "      <td>Si</td>\n",
              "      <td>89.583333</td>\n",
              "    </tr>\n",
              "    <tr>\n",
              "      <th>Metodología</th>\n",
              "      <td>Si</td>\n",
              "      <td>83.333333</td>\n",
              "    </tr>\n",
              "    <tr>\n",
              "      <th>Acompañado</th>\n",
              "      <td>Si</td>\n",
              "      <td>83.333333</td>\n",
              "    </tr>\n",
              "    <tr>\n",
              "      <th>Burnout</th>\n",
              "      <td>No</td>\n",
              "      <td>83.333333</td>\n",
              "    </tr>\n",
              "    <tr>\n",
              "      <th>Horas.sueño</th>\n",
              "      <td>6 o 8</td>\n",
              "      <td>79.166667</td>\n",
              "    </tr>\n",
              "    <tr>\n",
              "      <th>Presion.tareas</th>\n",
              "      <td>Si</td>\n",
              "      <td>75.000000</td>\n",
              "    </tr>\n",
              "  </tbody>\n",
              "</table>\n",
              "</div>\n",
              "    <div class=\"colab-df-buttons\">\n",
              "\n",
              "  <div class=\"colab-df-container\">\n",
              "    <button class=\"colab-df-convert\" onclick=\"convertToInteractive('df-7bea2a05-4a51-4eeb-9e69-674935f54a19')\"\n",
              "            title=\"Convert this dataframe to an interactive table.\"\n",
              "            style=\"display:none;\">\n",
              "\n",
              "  <svg xmlns=\"http://www.w3.org/2000/svg\" height=\"24px\" viewBox=\"0 -960 960 960\">\n",
              "    <path d=\"M120-120v-720h720v720H120Zm60-500h600v-160H180v160Zm220 220h160v-160H400v160Zm0 220h160v-160H400v160ZM180-400h160v-160H180v160Zm440 0h160v-160H620v160ZM180-180h160v-160H180v160Zm440 0h160v-160H620v160Z\"/>\n",
              "  </svg>\n",
              "    </button>\n",
              "\n",
              "  <style>\n",
              "    .colab-df-container {\n",
              "      display:flex;\n",
              "      gap: 12px;\n",
              "    }\n",
              "\n",
              "    .colab-df-convert {\n",
              "      background-color: #E8F0FE;\n",
              "      border: none;\n",
              "      border-radius: 50%;\n",
              "      cursor: pointer;\n",
              "      display: none;\n",
              "      fill: #1967D2;\n",
              "      height: 32px;\n",
              "      padding: 0 0 0 0;\n",
              "      width: 32px;\n",
              "    }\n",
              "\n",
              "    .colab-df-convert:hover {\n",
              "      background-color: #E2EBFA;\n",
              "      box-shadow: 0px 1px 2px rgba(60, 64, 67, 0.3), 0px 1px 3px 1px rgba(60, 64, 67, 0.15);\n",
              "      fill: #174EA6;\n",
              "    }\n",
              "\n",
              "    .colab-df-buttons div {\n",
              "      margin-bottom: 4px;\n",
              "    }\n",
              "\n",
              "    [theme=dark] .colab-df-convert {\n",
              "      background-color: #3B4455;\n",
              "      fill: #D2E3FC;\n",
              "    }\n",
              "\n",
              "    [theme=dark] .colab-df-convert:hover {\n",
              "      background-color: #434B5C;\n",
              "      box-shadow: 0px 1px 3px 1px rgba(0, 0, 0, 0.15);\n",
              "      filter: drop-shadow(0px 1px 2px rgba(0, 0, 0, 0.3));\n",
              "      fill: #FFFFFF;\n",
              "    }\n",
              "  </style>\n",
              "\n",
              "    <script>\n",
              "      const buttonEl =\n",
              "        document.querySelector('#df-7bea2a05-4a51-4eeb-9e69-674935f54a19 button.colab-df-convert');\n",
              "      buttonEl.style.display =\n",
              "        google.colab.kernel.accessAllowed ? 'block' : 'none';\n",
              "\n",
              "      async function convertToInteractive(key) {\n",
              "        const element = document.querySelector('#df-7bea2a05-4a51-4eeb-9e69-674935f54a19');\n",
              "        const dataTable =\n",
              "          await google.colab.kernel.invokeFunction('convertToInteractive',\n",
              "                                                    [key], {});\n",
              "        if (!dataTable) return;\n",
              "\n",
              "        const docLinkHtml = 'Like what you see? Visit the ' +\n",
              "          '<a target=\"_blank\" href=https://colab.research.google.com/notebooks/data_table.ipynb>data table notebook</a>'\n",
              "          + ' to learn more about interactive tables.';\n",
              "        element.innerHTML = '';\n",
              "        dataTable['output_type'] = 'display_data';\n",
              "        await google.colab.output.renderOutput(dataTable, element);\n",
              "        const docLink = document.createElement('div');\n",
              "        docLink.innerHTML = docLinkHtml;\n",
              "        element.appendChild(docLink);\n",
              "      }\n",
              "    </script>\n",
              "  </div>\n",
              "\n",
              "\n",
              "<div id=\"df-2bdadf57-7b98-4a67-8a72-17ee6f9539ba\">\n",
              "  <button class=\"colab-df-quickchart\" onclick=\"quickchart('df-2bdadf57-7b98-4a67-8a72-17ee6f9539ba')\"\n",
              "            title=\"Suggest charts\"\n",
              "            style=\"display:none;\">\n",
              "\n",
              "<svg xmlns=\"http://www.w3.org/2000/svg\" height=\"24px\"viewBox=\"0 0 24 24\"\n",
              "     width=\"24px\">\n",
              "    <g>\n",
              "        <path d=\"M19 3H5c-1.1 0-2 .9-2 2v14c0 1.1.9 2 2 2h14c1.1 0 2-.9 2-2V5c0-1.1-.9-2-2-2zM9 17H7v-7h2v7zm4 0h-2V7h2v10zm4 0h-2v-4h2v4z\"/>\n",
              "    </g>\n",
              "</svg>\n",
              "  </button>\n",
              "\n",
              "<style>\n",
              "  .colab-df-quickchart {\n",
              "      --bg-color: #E8F0FE;\n",
              "      --fill-color: #1967D2;\n",
              "      --hover-bg-color: #E2EBFA;\n",
              "      --hover-fill-color: #174EA6;\n",
              "      --disabled-fill-color: #AAA;\n",
              "      --disabled-bg-color: #DDD;\n",
              "  }\n",
              "\n",
              "  [theme=dark] .colab-df-quickchart {\n",
              "      --bg-color: #3B4455;\n",
              "      --fill-color: #D2E3FC;\n",
              "      --hover-bg-color: #434B5C;\n",
              "      --hover-fill-color: #FFFFFF;\n",
              "      --disabled-bg-color: #3B4455;\n",
              "      --disabled-fill-color: #666;\n",
              "  }\n",
              "\n",
              "  .colab-df-quickchart {\n",
              "    background-color: var(--bg-color);\n",
              "    border: none;\n",
              "    border-radius: 50%;\n",
              "    cursor: pointer;\n",
              "    display: none;\n",
              "    fill: var(--fill-color);\n",
              "    height: 32px;\n",
              "    padding: 0;\n",
              "    width: 32px;\n",
              "  }\n",
              "\n",
              "  .colab-df-quickchart:hover {\n",
              "    background-color: var(--hover-bg-color);\n",
              "    box-shadow: 0 1px 2px rgba(60, 64, 67, 0.3), 0 1px 3px 1px rgba(60, 64, 67, 0.15);\n",
              "    fill: var(--button-hover-fill-color);\n",
              "  }\n",
              "\n",
              "  .colab-df-quickchart-complete:disabled,\n",
              "  .colab-df-quickchart-complete:disabled:hover {\n",
              "    background-color: var(--disabled-bg-color);\n",
              "    fill: var(--disabled-fill-color);\n",
              "    box-shadow: none;\n",
              "  }\n",
              "\n",
              "  .colab-df-spinner {\n",
              "    border: 2px solid var(--fill-color);\n",
              "    border-color: transparent;\n",
              "    border-bottom-color: var(--fill-color);\n",
              "    animation:\n",
              "      spin 1s steps(1) infinite;\n",
              "  }\n",
              "\n",
              "  @keyframes spin {\n",
              "    0% {\n",
              "      border-color: transparent;\n",
              "      border-bottom-color: var(--fill-color);\n",
              "      border-left-color: var(--fill-color);\n",
              "    }\n",
              "    20% {\n",
              "      border-color: transparent;\n",
              "      border-left-color: var(--fill-color);\n",
              "      border-top-color: var(--fill-color);\n",
              "    }\n",
              "    30% {\n",
              "      border-color: transparent;\n",
              "      border-left-color: var(--fill-color);\n",
              "      border-top-color: var(--fill-color);\n",
              "      border-right-color: var(--fill-color);\n",
              "    }\n",
              "    40% {\n",
              "      border-color: transparent;\n",
              "      border-right-color: var(--fill-color);\n",
              "      border-top-color: var(--fill-color);\n",
              "    }\n",
              "    60% {\n",
              "      border-color: transparent;\n",
              "      border-right-color: var(--fill-color);\n",
              "    }\n",
              "    80% {\n",
              "      border-color: transparent;\n",
              "      border-right-color: var(--fill-color);\n",
              "      border-bottom-color: var(--fill-color);\n",
              "    }\n",
              "    90% {\n",
              "      border-color: transparent;\n",
              "      border-bottom-color: var(--fill-color);\n",
              "    }\n",
              "  }\n",
              "</style>\n",
              "\n",
              "  <script>\n",
              "    async function quickchart(key) {\n",
              "      const quickchartButtonEl =\n",
              "        document.querySelector('#' + key + ' button');\n",
              "      quickchartButtonEl.disabled = true;  // To prevent multiple clicks.\n",
              "      quickchartButtonEl.classList.add('colab-df-spinner');\n",
              "      try {\n",
              "        const charts = await google.colab.kernel.invokeFunction(\n",
              "            'suggestCharts', [key], {});\n",
              "      } catch (error) {\n",
              "        console.error('Error during call to suggestCharts:', error);\n",
              "      }\n",
              "      quickchartButtonEl.classList.remove('colab-df-spinner');\n",
              "      quickchartButtonEl.classList.add('colab-df-quickchart-complete');\n",
              "    }\n",
              "    (() => {\n",
              "      let quickchartButtonEl =\n",
              "        document.querySelector('#df-2bdadf57-7b98-4a67-8a72-17ee6f9539ba button');\n",
              "      quickchartButtonEl.style.display =\n",
              "        google.colab.kernel.accessAllowed ? 'block' : 'none';\n",
              "    })();\n",
              "  </script>\n",
              "</div>\n",
              "    </div>\n",
              "  </div>\n"
            ],
            "application/vnd.google.colaboratory.intrinsic+json": {
              "type": "dataframe",
              "summary": "{\n  \"name\": \"df_conclusiones1[df_conclusiones1['Porcentajes']>=70]\",\n  \"rows\": 12,\n  \"fields\": [\n    {\n      \"column\": \"Nombres\",\n      \"properties\": {\n        \"dtype\": \"category\",\n        \"num_unique_values\": 4,\n        \"samples\": [\n          \"Si, mucho\",\n          \"6 o 8\",\n          \"Si\"\n        ],\n        \"semantic_type\": \"\",\n        \"description\": \"\"\n      }\n    },\n    {\n      \"column\": \"Porcentajes\",\n      \"properties\": {\n        \"dtype\": \"number\",\n        \"std\": 7.561737342238002,\n        \"min\": 75.0,\n        \"max\": 100.0,\n        \"num_unique_values\": 8,\n        \"samples\": [\n          95.83333333333334,\n          83.33333333333334,\n          100.0\n        ],\n        \"semantic_type\": \"\",\n        \"description\": \"\"\n      }\n    }\n  ]\n}"
            }
          },
          "metadata": {},
          "execution_count": 60
        }
      ]
    },
    {
      "cell_type": "markdown",
      "source": [
        "Estos alumnos son aquellos que se sienten felices en su situación actual. Les gusta lo que hacen y están motivados, sienten que son efectivos con su tiempo y que tienen unos buenos niveles de salud tanto a nivel de sueño como social en relación a sus compañeros y al acompañamiento. Estas personas, de acuerdo a los análisis de las causas del síndrome de Burnout, no son propensas a padecer el síndrome, siendo así los resultados obtenidos buenos, ya que es el clúster con menor porcentaje esperado."
      ],
      "metadata": {
        "id": "0DTQUSbiwKVk"
      }
    },
    {
      "cell_type": "markdown",
      "source": [
        "**Análisis cluster 2**"
      ],
      "metadata": {
        "id": "oZnWB9XFO2yA"
      }
    },
    {
      "cell_type": "code",
      "source": [
        "df_cluster2 = df[df['cluster_label'] == 2]\n",
        "\n",
        "df_conclusiones2 = pd.DataFrame([], columns=['Nombres', 'Porcentajes'])\n",
        "\n",
        "nombres = []\n",
        "porcentajes = []\n",
        "\n",
        "for i in column_labels:\n",
        "  aux1 = df_cluster2[i].value_counts()\n",
        "  nombres.append(aux1.idxmax())\n",
        "  porcentajes.append(aux1.max()/len(df_cluster2)*100)\n",
        "\n",
        "df_conclusiones2['Nombres'] = nombres\n",
        "df_conclusiones2['Porcentajes'] = porcentajes\n",
        "\n",
        "nuevos_indices = {i: label for i, label in enumerate(column_labels)}\n",
        "df_conclusiones2 = df_conclusiones2.rename(index=nuevos_indices)\n",
        "\n",
        "df_conclusiones2[df_conclusiones2['Porcentajes']>=70].sort_values(by='Porcentajes', ascending=False)"
      ],
      "metadata": {
        "colab": {
          "base_uri": "https://localhost:8080/",
          "height": 363
        },
        "id": "Dji25t7nACIR",
        "outputId": "c4e2fc20-050a-441e-8e48-00267eef5482"
      },
      "execution_count": null,
      "outputs": [
        {
          "output_type": "execute_result",
          "data": {
            "text/plain": [
              "                       Nombres  Porcentajes\n",
              "Gustar.estudios             Si   100.000000\n",
              "Eleccion.estudios           Si    95.833333\n",
              "Comodo.compañeros           Si    95.833333\n",
              "Horas.sueño         menos de 7    91.666667\n",
              "Dormir.suficiente           No    91.666667\n",
              "Metodología                 Si    87.500000\n",
              "Autonomía                   Si    87.500000\n",
              "Burnout                     No    79.166667\n",
              "Acompañado                  Si    75.000000\n",
              "Comodo.competicion          Si    70.833333"
            ],
            "text/html": [
              "\n",
              "  <div id=\"df-5aa0abee-0cdd-4de9-b27c-e788d9cd19fb\" class=\"colab-df-container\">\n",
              "    <div>\n",
              "<style scoped>\n",
              "    .dataframe tbody tr th:only-of-type {\n",
              "        vertical-align: middle;\n",
              "    }\n",
              "\n",
              "    .dataframe tbody tr th {\n",
              "        vertical-align: top;\n",
              "    }\n",
              "\n",
              "    .dataframe thead th {\n",
              "        text-align: right;\n",
              "    }\n",
              "</style>\n",
              "<table border=\"1\" class=\"dataframe\">\n",
              "  <thead>\n",
              "    <tr style=\"text-align: right;\">\n",
              "      <th></th>\n",
              "      <th>Nombres</th>\n",
              "      <th>Porcentajes</th>\n",
              "    </tr>\n",
              "  </thead>\n",
              "  <tbody>\n",
              "    <tr>\n",
              "      <th>Gustar.estudios</th>\n",
              "      <td>Si</td>\n",
              "      <td>100.000000</td>\n",
              "    </tr>\n",
              "    <tr>\n",
              "      <th>Eleccion.estudios</th>\n",
              "      <td>Si</td>\n",
              "      <td>95.833333</td>\n",
              "    </tr>\n",
              "    <tr>\n",
              "      <th>Comodo.compañeros</th>\n",
              "      <td>Si</td>\n",
              "      <td>95.833333</td>\n",
              "    </tr>\n",
              "    <tr>\n",
              "      <th>Horas.sueño</th>\n",
              "      <td>menos de 7</td>\n",
              "      <td>91.666667</td>\n",
              "    </tr>\n",
              "    <tr>\n",
              "      <th>Dormir.suficiente</th>\n",
              "      <td>No</td>\n",
              "      <td>91.666667</td>\n",
              "    </tr>\n",
              "    <tr>\n",
              "      <th>Metodología</th>\n",
              "      <td>Si</td>\n",
              "      <td>87.500000</td>\n",
              "    </tr>\n",
              "    <tr>\n",
              "      <th>Autonomía</th>\n",
              "      <td>Si</td>\n",
              "      <td>87.500000</td>\n",
              "    </tr>\n",
              "    <tr>\n",
              "      <th>Burnout</th>\n",
              "      <td>No</td>\n",
              "      <td>79.166667</td>\n",
              "    </tr>\n",
              "    <tr>\n",
              "      <th>Acompañado</th>\n",
              "      <td>Si</td>\n",
              "      <td>75.000000</td>\n",
              "    </tr>\n",
              "    <tr>\n",
              "      <th>Comodo.competicion</th>\n",
              "      <td>Si</td>\n",
              "      <td>70.833333</td>\n",
              "    </tr>\n",
              "  </tbody>\n",
              "</table>\n",
              "</div>\n",
              "    <div class=\"colab-df-buttons\">\n",
              "\n",
              "  <div class=\"colab-df-container\">\n",
              "    <button class=\"colab-df-convert\" onclick=\"convertToInteractive('df-5aa0abee-0cdd-4de9-b27c-e788d9cd19fb')\"\n",
              "            title=\"Convert this dataframe to an interactive table.\"\n",
              "            style=\"display:none;\">\n",
              "\n",
              "  <svg xmlns=\"http://www.w3.org/2000/svg\" height=\"24px\" viewBox=\"0 -960 960 960\">\n",
              "    <path d=\"M120-120v-720h720v720H120Zm60-500h600v-160H180v160Zm220 220h160v-160H400v160Zm0 220h160v-160H400v160ZM180-400h160v-160H180v160Zm440 0h160v-160H620v160ZM180-180h160v-160H180v160Zm440 0h160v-160H620v160Z\"/>\n",
              "  </svg>\n",
              "    </button>\n",
              "\n",
              "  <style>\n",
              "    .colab-df-container {\n",
              "      display:flex;\n",
              "      gap: 12px;\n",
              "    }\n",
              "\n",
              "    .colab-df-convert {\n",
              "      background-color: #E8F0FE;\n",
              "      border: none;\n",
              "      border-radius: 50%;\n",
              "      cursor: pointer;\n",
              "      display: none;\n",
              "      fill: #1967D2;\n",
              "      height: 32px;\n",
              "      padding: 0 0 0 0;\n",
              "      width: 32px;\n",
              "    }\n",
              "\n",
              "    .colab-df-convert:hover {\n",
              "      background-color: #E2EBFA;\n",
              "      box-shadow: 0px 1px 2px rgba(60, 64, 67, 0.3), 0px 1px 3px 1px rgba(60, 64, 67, 0.15);\n",
              "      fill: #174EA6;\n",
              "    }\n",
              "\n",
              "    .colab-df-buttons div {\n",
              "      margin-bottom: 4px;\n",
              "    }\n",
              "\n",
              "    [theme=dark] .colab-df-convert {\n",
              "      background-color: #3B4455;\n",
              "      fill: #D2E3FC;\n",
              "    }\n",
              "\n",
              "    [theme=dark] .colab-df-convert:hover {\n",
              "      background-color: #434B5C;\n",
              "      box-shadow: 0px 1px 3px 1px rgba(0, 0, 0, 0.15);\n",
              "      filter: drop-shadow(0px 1px 2px rgba(0, 0, 0, 0.3));\n",
              "      fill: #FFFFFF;\n",
              "    }\n",
              "  </style>\n",
              "\n",
              "    <script>\n",
              "      const buttonEl =\n",
              "        document.querySelector('#df-5aa0abee-0cdd-4de9-b27c-e788d9cd19fb button.colab-df-convert');\n",
              "      buttonEl.style.display =\n",
              "        google.colab.kernel.accessAllowed ? 'block' : 'none';\n",
              "\n",
              "      async function convertToInteractive(key) {\n",
              "        const element = document.querySelector('#df-5aa0abee-0cdd-4de9-b27c-e788d9cd19fb');\n",
              "        const dataTable =\n",
              "          await google.colab.kernel.invokeFunction('convertToInteractive',\n",
              "                                                    [key], {});\n",
              "        if (!dataTable) return;\n",
              "\n",
              "        const docLinkHtml = 'Like what you see? Visit the ' +\n",
              "          '<a target=\"_blank\" href=https://colab.research.google.com/notebooks/data_table.ipynb>data table notebook</a>'\n",
              "          + ' to learn more about interactive tables.';\n",
              "        element.innerHTML = '';\n",
              "        dataTable['output_type'] = 'display_data';\n",
              "        await google.colab.output.renderOutput(dataTable, element);\n",
              "        const docLink = document.createElement('div');\n",
              "        docLink.innerHTML = docLinkHtml;\n",
              "        element.appendChild(docLink);\n",
              "      }\n",
              "    </script>\n",
              "  </div>\n",
              "\n",
              "\n",
              "<div id=\"df-3077db98-b715-46dd-8348-05b284044ef5\">\n",
              "  <button class=\"colab-df-quickchart\" onclick=\"quickchart('df-3077db98-b715-46dd-8348-05b284044ef5')\"\n",
              "            title=\"Suggest charts\"\n",
              "            style=\"display:none;\">\n",
              "\n",
              "<svg xmlns=\"http://www.w3.org/2000/svg\" height=\"24px\"viewBox=\"0 0 24 24\"\n",
              "     width=\"24px\">\n",
              "    <g>\n",
              "        <path d=\"M19 3H5c-1.1 0-2 .9-2 2v14c0 1.1.9 2 2 2h14c1.1 0 2-.9 2-2V5c0-1.1-.9-2-2-2zM9 17H7v-7h2v7zm4 0h-2V7h2v10zm4 0h-2v-4h2v4z\"/>\n",
              "    </g>\n",
              "</svg>\n",
              "  </button>\n",
              "\n",
              "<style>\n",
              "  .colab-df-quickchart {\n",
              "      --bg-color: #E8F0FE;\n",
              "      --fill-color: #1967D2;\n",
              "      --hover-bg-color: #E2EBFA;\n",
              "      --hover-fill-color: #174EA6;\n",
              "      --disabled-fill-color: #AAA;\n",
              "      --disabled-bg-color: #DDD;\n",
              "  }\n",
              "\n",
              "  [theme=dark] .colab-df-quickchart {\n",
              "      --bg-color: #3B4455;\n",
              "      --fill-color: #D2E3FC;\n",
              "      --hover-bg-color: #434B5C;\n",
              "      --hover-fill-color: #FFFFFF;\n",
              "      --disabled-bg-color: #3B4455;\n",
              "      --disabled-fill-color: #666;\n",
              "  }\n",
              "\n",
              "  .colab-df-quickchart {\n",
              "    background-color: var(--bg-color);\n",
              "    border: none;\n",
              "    border-radius: 50%;\n",
              "    cursor: pointer;\n",
              "    display: none;\n",
              "    fill: var(--fill-color);\n",
              "    height: 32px;\n",
              "    padding: 0;\n",
              "    width: 32px;\n",
              "  }\n",
              "\n",
              "  .colab-df-quickchart:hover {\n",
              "    background-color: var(--hover-bg-color);\n",
              "    box-shadow: 0 1px 2px rgba(60, 64, 67, 0.3), 0 1px 3px 1px rgba(60, 64, 67, 0.15);\n",
              "    fill: var(--button-hover-fill-color);\n",
              "  }\n",
              "\n",
              "  .colab-df-quickchart-complete:disabled,\n",
              "  .colab-df-quickchart-complete:disabled:hover {\n",
              "    background-color: var(--disabled-bg-color);\n",
              "    fill: var(--disabled-fill-color);\n",
              "    box-shadow: none;\n",
              "  }\n",
              "\n",
              "  .colab-df-spinner {\n",
              "    border: 2px solid var(--fill-color);\n",
              "    border-color: transparent;\n",
              "    border-bottom-color: var(--fill-color);\n",
              "    animation:\n",
              "      spin 1s steps(1) infinite;\n",
              "  }\n",
              "\n",
              "  @keyframes spin {\n",
              "    0% {\n",
              "      border-color: transparent;\n",
              "      border-bottom-color: var(--fill-color);\n",
              "      border-left-color: var(--fill-color);\n",
              "    }\n",
              "    20% {\n",
              "      border-color: transparent;\n",
              "      border-left-color: var(--fill-color);\n",
              "      border-top-color: var(--fill-color);\n",
              "    }\n",
              "    30% {\n",
              "      border-color: transparent;\n",
              "      border-left-color: var(--fill-color);\n",
              "      border-top-color: var(--fill-color);\n",
              "      border-right-color: var(--fill-color);\n",
              "    }\n",
              "    40% {\n",
              "      border-color: transparent;\n",
              "      border-right-color: var(--fill-color);\n",
              "      border-top-color: var(--fill-color);\n",
              "    }\n",
              "    60% {\n",
              "      border-color: transparent;\n",
              "      border-right-color: var(--fill-color);\n",
              "    }\n",
              "    80% {\n",
              "      border-color: transparent;\n",
              "      border-right-color: var(--fill-color);\n",
              "      border-bottom-color: var(--fill-color);\n",
              "    }\n",
              "    90% {\n",
              "      border-color: transparent;\n",
              "      border-bottom-color: var(--fill-color);\n",
              "    }\n",
              "  }\n",
              "</style>\n",
              "\n",
              "  <script>\n",
              "    async function quickchart(key) {\n",
              "      const quickchartButtonEl =\n",
              "        document.querySelector('#' + key + ' button');\n",
              "      quickchartButtonEl.disabled = true;  // To prevent multiple clicks.\n",
              "      quickchartButtonEl.classList.add('colab-df-spinner');\n",
              "      try {\n",
              "        const charts = await google.colab.kernel.invokeFunction(\n",
              "            'suggestCharts', [key], {});\n",
              "      } catch (error) {\n",
              "        console.error('Error during call to suggestCharts:', error);\n",
              "      }\n",
              "      quickchartButtonEl.classList.remove('colab-df-spinner');\n",
              "      quickchartButtonEl.classList.add('colab-df-quickchart-complete');\n",
              "    }\n",
              "    (() => {\n",
              "      let quickchartButtonEl =\n",
              "        document.querySelector('#df-3077db98-b715-46dd-8348-05b284044ef5 button');\n",
              "      quickchartButtonEl.style.display =\n",
              "        google.colab.kernel.accessAllowed ? 'block' : 'none';\n",
              "    })();\n",
              "  </script>\n",
              "</div>\n",
              "    </div>\n",
              "  </div>\n"
            ],
            "application/vnd.google.colaboratory.intrinsic+json": {
              "type": "dataframe",
              "summary": "{\n  \"name\": \"df_conclusiones2[df_conclusiones2['Porcentajes']>=70]\",\n  \"rows\": 10,\n  \"fields\": [\n    {\n      \"column\": \"Nombres\",\n      \"properties\": {\n        \"dtype\": \"category\",\n        \"num_unique_values\": 3,\n        \"samples\": [\n          \"Si\",\n          \"menos de 7\",\n          \"No\"\n        ],\n        \"semantic_type\": \"\",\n        \"description\": \"\"\n      }\n    },\n    {\n      \"column\": \"Porcentajes\",\n      \"properties\": {\n        \"dtype\": \"number\",\n        \"std\": 9.622504486493764,\n        \"min\": 70.83333333333334,\n        \"max\": 100.0,\n        \"num_unique_values\": 7,\n        \"samples\": [\n          100.0,\n          95.83333333333334,\n          75.0\n        ],\n        \"semantic_type\": \"\",\n        \"description\": \"\"\n      }\n    }\n  ]\n}"
            }
          },
          "metadata": {},
          "execution_count": 61
        }
      ]
    },
    {
      "cell_type": "markdown",
      "source": [
        "Muchas de las características del clúster 2 son muy comunes a las del clúster 1. Comodidad con las personas, el ambiente y el sistema, están contentos con la situación actual. La principal diferencia, que es lo que los divide en otro grupo, son las horas de sueño. Este grupo duerme mayoritariamente poco, y además así lo consideran a nivel personal. Esta es una característica que tiene su importancia a la hora de padecer el síndrome, siendo el descanso diario esencial para evitar excesos y colapsos. Así, de la forma esperada, se tiene que el porcentaje de sensación es mayor en el clúster 2 que en el clúster 1, siendo la principal diferencia el sueño."
      ],
      "metadata": {
        "id": "MgMKVZVBxUMm"
      }
    },
    {
      "cell_type": "markdown",
      "source": [
        "**Análisis cluster 3**"
      ],
      "metadata": {
        "id": "7Gk2LUw7O78p"
      }
    },
    {
      "cell_type": "code",
      "source": [
        "df_cluster3 = df[df['cluster_label'] == 3]\n",
        "\n",
        "df_conclusiones3 = pd.DataFrame([], columns=['Nombres', 'Porcentajes'])\n",
        "\n",
        "nombres = []\n",
        "porcentajes = []\n",
        "\n",
        "for i in column_labels:\n",
        "  aux1 = df_cluster3[i].value_counts()\n",
        "  nombres.append(aux1.idxmax())\n",
        "  porcentajes.append(aux1.max()/len(df_cluster3)*100)\n",
        "\n",
        "df_conclusiones3['Nombres'] = nombres\n",
        "df_conclusiones3['Porcentajes'] = porcentajes\n",
        "\n",
        "nuevos_indices = {i: label for i, label in enumerate(column_labels)}\n",
        "df_conclusiones3 = df_conclusiones3.rename(index=nuevos_indices)\n",
        "\n",
        "df_conclusiones3[df_conclusiones3['Porcentajes']>=70].sort_values(by='Porcentajes', ascending=False)"
      ],
      "metadata": {
        "colab": {
          "base_uri": "https://localhost:8080/",
          "height": 363
        },
        "id": "H96sQiFAAK-N",
        "outputId": "80a15f96-2833-4b0e-c1eb-99113df171f1"
      },
      "execution_count": null,
      "outputs": [
        {
          "output_type": "execute_result",
          "data": {
            "text/plain": [
              "                            Nombres  Porcentajes\n",
              "Aprovechar.tiempo                No   100.000000\n",
              "Gustar.estudios                  Si    90.909091\n",
              "Autonomía                        Si    90.909091\n",
              "Acompañado                       No    81.818182\n",
              "Presion.tareas                   Si    81.818182\n",
              "Burnout                          Si    81.818182\n",
              "Estudiante.42                    No    72.727273\n",
              "Motivacion            Sí, pero poco    72.727273\n",
              "Metodología                      No    72.727273\n",
              "Ambiente.competitivo             Si    72.727273"
            ],
            "text/html": [
              "\n",
              "  <div id=\"df-d6de6559-e94f-4590-9a1e-05c83e949d2b\" class=\"colab-df-container\">\n",
              "    <div>\n",
              "<style scoped>\n",
              "    .dataframe tbody tr th:only-of-type {\n",
              "        vertical-align: middle;\n",
              "    }\n",
              "\n",
              "    .dataframe tbody tr th {\n",
              "        vertical-align: top;\n",
              "    }\n",
              "\n",
              "    .dataframe thead th {\n",
              "        text-align: right;\n",
              "    }\n",
              "</style>\n",
              "<table border=\"1\" class=\"dataframe\">\n",
              "  <thead>\n",
              "    <tr style=\"text-align: right;\">\n",
              "      <th></th>\n",
              "      <th>Nombres</th>\n",
              "      <th>Porcentajes</th>\n",
              "    </tr>\n",
              "  </thead>\n",
              "  <tbody>\n",
              "    <tr>\n",
              "      <th>Aprovechar.tiempo</th>\n",
              "      <td>No</td>\n",
              "      <td>100.000000</td>\n",
              "    </tr>\n",
              "    <tr>\n",
              "      <th>Gustar.estudios</th>\n",
              "      <td>Si</td>\n",
              "      <td>90.909091</td>\n",
              "    </tr>\n",
              "    <tr>\n",
              "      <th>Autonomía</th>\n",
              "      <td>Si</td>\n",
              "      <td>90.909091</td>\n",
              "    </tr>\n",
              "    <tr>\n",
              "      <th>Acompañado</th>\n",
              "      <td>No</td>\n",
              "      <td>81.818182</td>\n",
              "    </tr>\n",
              "    <tr>\n",
              "      <th>Presion.tareas</th>\n",
              "      <td>Si</td>\n",
              "      <td>81.818182</td>\n",
              "    </tr>\n",
              "    <tr>\n",
              "      <th>Burnout</th>\n",
              "      <td>Si</td>\n",
              "      <td>81.818182</td>\n",
              "    </tr>\n",
              "    <tr>\n",
              "      <th>Estudiante.42</th>\n",
              "      <td>No</td>\n",
              "      <td>72.727273</td>\n",
              "    </tr>\n",
              "    <tr>\n",
              "      <th>Motivacion</th>\n",
              "      <td>Sí, pero poco</td>\n",
              "      <td>72.727273</td>\n",
              "    </tr>\n",
              "    <tr>\n",
              "      <th>Metodología</th>\n",
              "      <td>No</td>\n",
              "      <td>72.727273</td>\n",
              "    </tr>\n",
              "    <tr>\n",
              "      <th>Ambiente.competitivo</th>\n",
              "      <td>Si</td>\n",
              "      <td>72.727273</td>\n",
              "    </tr>\n",
              "  </tbody>\n",
              "</table>\n",
              "</div>\n",
              "    <div class=\"colab-df-buttons\">\n",
              "\n",
              "  <div class=\"colab-df-container\">\n",
              "    <button class=\"colab-df-convert\" onclick=\"convertToInteractive('df-d6de6559-e94f-4590-9a1e-05c83e949d2b')\"\n",
              "            title=\"Convert this dataframe to an interactive table.\"\n",
              "            style=\"display:none;\">\n",
              "\n",
              "  <svg xmlns=\"http://www.w3.org/2000/svg\" height=\"24px\" viewBox=\"0 -960 960 960\">\n",
              "    <path d=\"M120-120v-720h720v720H120Zm60-500h600v-160H180v160Zm220 220h160v-160H400v160Zm0 220h160v-160H400v160ZM180-400h160v-160H180v160Zm440 0h160v-160H620v160ZM180-180h160v-160H180v160Zm440 0h160v-160H620v160Z\"/>\n",
              "  </svg>\n",
              "    </button>\n",
              "\n",
              "  <style>\n",
              "    .colab-df-container {\n",
              "      display:flex;\n",
              "      gap: 12px;\n",
              "    }\n",
              "\n",
              "    .colab-df-convert {\n",
              "      background-color: #E8F0FE;\n",
              "      border: none;\n",
              "      border-radius: 50%;\n",
              "      cursor: pointer;\n",
              "      display: none;\n",
              "      fill: #1967D2;\n",
              "      height: 32px;\n",
              "      padding: 0 0 0 0;\n",
              "      width: 32px;\n",
              "    }\n",
              "\n",
              "    .colab-df-convert:hover {\n",
              "      background-color: #E2EBFA;\n",
              "      box-shadow: 0px 1px 2px rgba(60, 64, 67, 0.3), 0px 1px 3px 1px rgba(60, 64, 67, 0.15);\n",
              "      fill: #174EA6;\n",
              "    }\n",
              "\n",
              "    .colab-df-buttons div {\n",
              "      margin-bottom: 4px;\n",
              "    }\n",
              "\n",
              "    [theme=dark] .colab-df-convert {\n",
              "      background-color: #3B4455;\n",
              "      fill: #D2E3FC;\n",
              "    }\n",
              "\n",
              "    [theme=dark] .colab-df-convert:hover {\n",
              "      background-color: #434B5C;\n",
              "      box-shadow: 0px 1px 3px 1px rgba(0, 0, 0, 0.15);\n",
              "      filter: drop-shadow(0px 1px 2px rgba(0, 0, 0, 0.3));\n",
              "      fill: #FFFFFF;\n",
              "    }\n",
              "  </style>\n",
              "\n",
              "    <script>\n",
              "      const buttonEl =\n",
              "        document.querySelector('#df-d6de6559-e94f-4590-9a1e-05c83e949d2b button.colab-df-convert');\n",
              "      buttonEl.style.display =\n",
              "        google.colab.kernel.accessAllowed ? 'block' : 'none';\n",
              "\n",
              "      async function convertToInteractive(key) {\n",
              "        const element = document.querySelector('#df-d6de6559-e94f-4590-9a1e-05c83e949d2b');\n",
              "        const dataTable =\n",
              "          await google.colab.kernel.invokeFunction('convertToInteractive',\n",
              "                                                    [key], {});\n",
              "        if (!dataTable) return;\n",
              "\n",
              "        const docLinkHtml = 'Like what you see? Visit the ' +\n",
              "          '<a target=\"_blank\" href=https://colab.research.google.com/notebooks/data_table.ipynb>data table notebook</a>'\n",
              "          + ' to learn more about interactive tables.';\n",
              "        element.innerHTML = '';\n",
              "        dataTable['output_type'] = 'display_data';\n",
              "        await google.colab.output.renderOutput(dataTable, element);\n",
              "        const docLink = document.createElement('div');\n",
              "        docLink.innerHTML = docLinkHtml;\n",
              "        element.appendChild(docLink);\n",
              "      }\n",
              "    </script>\n",
              "  </div>\n",
              "\n",
              "\n",
              "<div id=\"df-58da637d-86e0-4307-bd17-456a8f686b24\">\n",
              "  <button class=\"colab-df-quickchart\" onclick=\"quickchart('df-58da637d-86e0-4307-bd17-456a8f686b24')\"\n",
              "            title=\"Suggest charts\"\n",
              "            style=\"display:none;\">\n",
              "\n",
              "<svg xmlns=\"http://www.w3.org/2000/svg\" height=\"24px\"viewBox=\"0 0 24 24\"\n",
              "     width=\"24px\">\n",
              "    <g>\n",
              "        <path d=\"M19 3H5c-1.1 0-2 .9-2 2v14c0 1.1.9 2 2 2h14c1.1 0 2-.9 2-2V5c0-1.1-.9-2-2-2zM9 17H7v-7h2v7zm4 0h-2V7h2v10zm4 0h-2v-4h2v4z\"/>\n",
              "    </g>\n",
              "</svg>\n",
              "  </button>\n",
              "\n",
              "<style>\n",
              "  .colab-df-quickchart {\n",
              "      --bg-color: #E8F0FE;\n",
              "      --fill-color: #1967D2;\n",
              "      --hover-bg-color: #E2EBFA;\n",
              "      --hover-fill-color: #174EA6;\n",
              "      --disabled-fill-color: #AAA;\n",
              "      --disabled-bg-color: #DDD;\n",
              "  }\n",
              "\n",
              "  [theme=dark] .colab-df-quickchart {\n",
              "      --bg-color: #3B4455;\n",
              "      --fill-color: #D2E3FC;\n",
              "      --hover-bg-color: #434B5C;\n",
              "      --hover-fill-color: #FFFFFF;\n",
              "      --disabled-bg-color: #3B4455;\n",
              "      --disabled-fill-color: #666;\n",
              "  }\n",
              "\n",
              "  .colab-df-quickchart {\n",
              "    background-color: var(--bg-color);\n",
              "    border: none;\n",
              "    border-radius: 50%;\n",
              "    cursor: pointer;\n",
              "    display: none;\n",
              "    fill: var(--fill-color);\n",
              "    height: 32px;\n",
              "    padding: 0;\n",
              "    width: 32px;\n",
              "  }\n",
              "\n",
              "  .colab-df-quickchart:hover {\n",
              "    background-color: var(--hover-bg-color);\n",
              "    box-shadow: 0 1px 2px rgba(60, 64, 67, 0.3), 0 1px 3px 1px rgba(60, 64, 67, 0.15);\n",
              "    fill: var(--button-hover-fill-color);\n",
              "  }\n",
              "\n",
              "  .colab-df-quickchart-complete:disabled,\n",
              "  .colab-df-quickchart-complete:disabled:hover {\n",
              "    background-color: var(--disabled-bg-color);\n",
              "    fill: var(--disabled-fill-color);\n",
              "    box-shadow: none;\n",
              "  }\n",
              "\n",
              "  .colab-df-spinner {\n",
              "    border: 2px solid var(--fill-color);\n",
              "    border-color: transparent;\n",
              "    border-bottom-color: var(--fill-color);\n",
              "    animation:\n",
              "      spin 1s steps(1) infinite;\n",
              "  }\n",
              "\n",
              "  @keyframes spin {\n",
              "    0% {\n",
              "      border-color: transparent;\n",
              "      border-bottom-color: var(--fill-color);\n",
              "      border-left-color: var(--fill-color);\n",
              "    }\n",
              "    20% {\n",
              "      border-color: transparent;\n",
              "      border-left-color: var(--fill-color);\n",
              "      border-top-color: var(--fill-color);\n",
              "    }\n",
              "    30% {\n",
              "      border-color: transparent;\n",
              "      border-left-color: var(--fill-color);\n",
              "      border-top-color: var(--fill-color);\n",
              "      border-right-color: var(--fill-color);\n",
              "    }\n",
              "    40% {\n",
              "      border-color: transparent;\n",
              "      border-right-color: var(--fill-color);\n",
              "      border-top-color: var(--fill-color);\n",
              "    }\n",
              "    60% {\n",
              "      border-color: transparent;\n",
              "      border-right-color: var(--fill-color);\n",
              "    }\n",
              "    80% {\n",
              "      border-color: transparent;\n",
              "      border-right-color: var(--fill-color);\n",
              "      border-bottom-color: var(--fill-color);\n",
              "    }\n",
              "    90% {\n",
              "      border-color: transparent;\n",
              "      border-bottom-color: var(--fill-color);\n",
              "    }\n",
              "  }\n",
              "</style>\n",
              "\n",
              "  <script>\n",
              "    async function quickchart(key) {\n",
              "      const quickchartButtonEl =\n",
              "        document.querySelector('#' + key + ' button');\n",
              "      quickchartButtonEl.disabled = true;  // To prevent multiple clicks.\n",
              "      quickchartButtonEl.classList.add('colab-df-spinner');\n",
              "      try {\n",
              "        const charts = await google.colab.kernel.invokeFunction(\n",
              "            'suggestCharts', [key], {});\n",
              "      } catch (error) {\n",
              "        console.error('Error during call to suggestCharts:', error);\n",
              "      }\n",
              "      quickchartButtonEl.classList.remove('colab-df-spinner');\n",
              "      quickchartButtonEl.classList.add('colab-df-quickchart-complete');\n",
              "    }\n",
              "    (() => {\n",
              "      let quickchartButtonEl =\n",
              "        document.querySelector('#df-58da637d-86e0-4307-bd17-456a8f686b24 button');\n",
              "      quickchartButtonEl.style.display =\n",
              "        google.colab.kernel.accessAllowed ? 'block' : 'none';\n",
              "    })();\n",
              "  </script>\n",
              "</div>\n",
              "    </div>\n",
              "  </div>\n"
            ],
            "application/vnd.google.colaboratory.intrinsic+json": {
              "type": "dataframe",
              "summary": "{\n  \"name\": \"df_conclusiones3[df_conclusiones3['Porcentajes']>=70]\",\n  \"rows\": 10,\n  \"fields\": [\n    {\n      \"column\": \"Nombres\",\n      \"properties\": {\n        \"dtype\": \"category\",\n        \"num_unique_values\": 3,\n        \"samples\": [\n          \"No\",\n          \"Si\",\n          \"S\\u00ed, pero poco\"\n        ],\n        \"semantic_type\": \"\",\n        \"description\": \"\"\n      }\n    },\n    {\n      \"column\": \"Porcentajes\",\n      \"properties\": {\n        \"dtype\": \"number\",\n        \"std\": 9.582659576267812,\n        \"min\": 72.72727272727273,\n        \"max\": 100.0,\n        \"num_unique_values\": 4,\n        \"samples\": [\n          90.9090909090909,\n          72.72727272727273,\n          100.0\n        ],\n        \"semantic_type\": \"\",\n        \"description\": \"\"\n      }\n    }\n  ]\n}"
            }
          },
          "metadata": {},
          "execution_count": 62
        }
      ]
    },
    {
      "cell_type": "markdown",
      "source": [
        "Este clúster refleja de manera muy efectiva las causas del síndrome de burnout. Son personas con unas altas expectativas que tienen gusto por sus estudios, pero que no se sienten motivadas. La metodología usada no la consideran adecuada y sienten una falta de acompañamiento. Esto acaba provocando que sientan que están perdiendo el tiempo y una gran decepción ante las expectativas, siendo causas muy fuertes en la aparición del síndrome."
      ],
      "metadata": {
        "id": "xW4W76NOy5CV"
      }
    },
    {
      "cell_type": "markdown",
      "source": [
        "**Analisis cluster 4**"
      ],
      "metadata": {
        "id": "U7tOcjOAO_YJ"
      }
    },
    {
      "cell_type": "code",
      "source": [
        "df_cluster4 = df[df['cluster_label'] == 4]\n",
        "\n",
        "df_conclusiones4 = pd.DataFrame([], columns=['Nombres', 'Porcentajes'])\n",
        "\n",
        "nombres = []\n",
        "porcentajes = []\n",
        "\n",
        "for i in column_labels:\n",
        "  aux1 = df_cluster4[i].value_counts()\n",
        "  nombres.append(aux1.idxmax())\n",
        "  porcentajes.append(aux1.max()/len(df_cluster4)*100)\n",
        "\n",
        "df_conclusiones4['Nombres'] = nombres\n",
        "df_conclusiones4['Porcentajes'] = porcentajes\n",
        "\n",
        "nuevos_indices = {i: label for i, label in enumerate(column_labels)}\n",
        "df_conclusiones4 = df_conclusiones4.rename(index=nuevos_indices)\n",
        "\n",
        "df_conclusiones4[df_conclusiones4['Porcentajes']>=70].sort_values(by='Porcentajes', ascending=False)"
      ],
      "metadata": {
        "colab": {
          "base_uri": "https://localhost:8080/",
          "height": 363
        },
        "id": "ORAKN6U6ZJJR",
        "outputId": "5051fd05-d0f7-4faa-9c51-c1c56673ac1e"
      },
      "execution_count": null,
      "outputs": [
        {
          "output_type": "execute_result",
          "data": {
            "text/plain": [
              "                     Nombres  Porcentajes\n",
              "Eleccion.estudios         Si   100.000000\n",
              "Comodo.compañeros         Si   100.000000\n",
              "Gustar.estudios           Si    86.666667\n",
              "Dormir.suficiente         No    86.666667\n",
              "Acompañado                Si    80.000000\n",
              "Comodo.competicion        Si    80.000000\n",
              "Autonomía                 Si    80.000000\n",
              "Presion.tareas            Si    80.000000\n",
              "Estudiante.42             No    73.333333\n",
              "Comidias.diarias    Mas de 3    73.333333"
            ],
            "text/html": [
              "\n",
              "  <div id=\"df-ecfff5af-39a8-4576-a24d-f76f4c880d51\" class=\"colab-df-container\">\n",
              "    <div>\n",
              "<style scoped>\n",
              "    .dataframe tbody tr th:only-of-type {\n",
              "        vertical-align: middle;\n",
              "    }\n",
              "\n",
              "    .dataframe tbody tr th {\n",
              "        vertical-align: top;\n",
              "    }\n",
              "\n",
              "    .dataframe thead th {\n",
              "        text-align: right;\n",
              "    }\n",
              "</style>\n",
              "<table border=\"1\" class=\"dataframe\">\n",
              "  <thead>\n",
              "    <tr style=\"text-align: right;\">\n",
              "      <th></th>\n",
              "      <th>Nombres</th>\n",
              "      <th>Porcentajes</th>\n",
              "    </tr>\n",
              "  </thead>\n",
              "  <tbody>\n",
              "    <tr>\n",
              "      <th>Eleccion.estudios</th>\n",
              "      <td>Si</td>\n",
              "      <td>100.000000</td>\n",
              "    </tr>\n",
              "    <tr>\n",
              "      <th>Comodo.compañeros</th>\n",
              "      <td>Si</td>\n",
              "      <td>100.000000</td>\n",
              "    </tr>\n",
              "    <tr>\n",
              "      <th>Gustar.estudios</th>\n",
              "      <td>Si</td>\n",
              "      <td>86.666667</td>\n",
              "    </tr>\n",
              "    <tr>\n",
              "      <th>Dormir.suficiente</th>\n",
              "      <td>No</td>\n",
              "      <td>86.666667</td>\n",
              "    </tr>\n",
              "    <tr>\n",
              "      <th>Acompañado</th>\n",
              "      <td>Si</td>\n",
              "      <td>80.000000</td>\n",
              "    </tr>\n",
              "    <tr>\n",
              "      <th>Comodo.competicion</th>\n",
              "      <td>Si</td>\n",
              "      <td>80.000000</td>\n",
              "    </tr>\n",
              "    <tr>\n",
              "      <th>Autonomía</th>\n",
              "      <td>Si</td>\n",
              "      <td>80.000000</td>\n",
              "    </tr>\n",
              "    <tr>\n",
              "      <th>Presion.tareas</th>\n",
              "      <td>Si</td>\n",
              "      <td>80.000000</td>\n",
              "    </tr>\n",
              "    <tr>\n",
              "      <th>Estudiante.42</th>\n",
              "      <td>No</td>\n",
              "      <td>73.333333</td>\n",
              "    </tr>\n",
              "    <tr>\n",
              "      <th>Comidias.diarias</th>\n",
              "      <td>Mas de 3</td>\n",
              "      <td>73.333333</td>\n",
              "    </tr>\n",
              "  </tbody>\n",
              "</table>\n",
              "</div>\n",
              "    <div class=\"colab-df-buttons\">\n",
              "\n",
              "  <div class=\"colab-df-container\">\n",
              "    <button class=\"colab-df-convert\" onclick=\"convertToInteractive('df-ecfff5af-39a8-4576-a24d-f76f4c880d51')\"\n",
              "            title=\"Convert this dataframe to an interactive table.\"\n",
              "            style=\"display:none;\">\n",
              "\n",
              "  <svg xmlns=\"http://www.w3.org/2000/svg\" height=\"24px\" viewBox=\"0 -960 960 960\">\n",
              "    <path d=\"M120-120v-720h720v720H120Zm60-500h600v-160H180v160Zm220 220h160v-160H400v160Zm0 220h160v-160H400v160ZM180-400h160v-160H180v160Zm440 0h160v-160H620v160ZM180-180h160v-160H180v160Zm440 0h160v-160H620v160Z\"/>\n",
              "  </svg>\n",
              "    </button>\n",
              "\n",
              "  <style>\n",
              "    .colab-df-container {\n",
              "      display:flex;\n",
              "      gap: 12px;\n",
              "    }\n",
              "\n",
              "    .colab-df-convert {\n",
              "      background-color: #E8F0FE;\n",
              "      border: none;\n",
              "      border-radius: 50%;\n",
              "      cursor: pointer;\n",
              "      display: none;\n",
              "      fill: #1967D2;\n",
              "      height: 32px;\n",
              "      padding: 0 0 0 0;\n",
              "      width: 32px;\n",
              "    }\n",
              "\n",
              "    .colab-df-convert:hover {\n",
              "      background-color: #E2EBFA;\n",
              "      box-shadow: 0px 1px 2px rgba(60, 64, 67, 0.3), 0px 1px 3px 1px rgba(60, 64, 67, 0.15);\n",
              "      fill: #174EA6;\n",
              "    }\n",
              "\n",
              "    .colab-df-buttons div {\n",
              "      margin-bottom: 4px;\n",
              "    }\n",
              "\n",
              "    [theme=dark] .colab-df-convert {\n",
              "      background-color: #3B4455;\n",
              "      fill: #D2E3FC;\n",
              "    }\n",
              "\n",
              "    [theme=dark] .colab-df-convert:hover {\n",
              "      background-color: #434B5C;\n",
              "      box-shadow: 0px 1px 3px 1px rgba(0, 0, 0, 0.15);\n",
              "      filter: drop-shadow(0px 1px 2px rgba(0, 0, 0, 0.3));\n",
              "      fill: #FFFFFF;\n",
              "    }\n",
              "  </style>\n",
              "\n",
              "    <script>\n",
              "      const buttonEl =\n",
              "        document.querySelector('#df-ecfff5af-39a8-4576-a24d-f76f4c880d51 button.colab-df-convert');\n",
              "      buttonEl.style.display =\n",
              "        google.colab.kernel.accessAllowed ? 'block' : 'none';\n",
              "\n",
              "      async function convertToInteractive(key) {\n",
              "        const element = document.querySelector('#df-ecfff5af-39a8-4576-a24d-f76f4c880d51');\n",
              "        const dataTable =\n",
              "          await google.colab.kernel.invokeFunction('convertToInteractive',\n",
              "                                                    [key], {});\n",
              "        if (!dataTable) return;\n",
              "\n",
              "        const docLinkHtml = 'Like what you see? Visit the ' +\n",
              "          '<a target=\"_blank\" href=https://colab.research.google.com/notebooks/data_table.ipynb>data table notebook</a>'\n",
              "          + ' to learn more about interactive tables.';\n",
              "        element.innerHTML = '';\n",
              "        dataTable['output_type'] = 'display_data';\n",
              "        await google.colab.output.renderOutput(dataTable, element);\n",
              "        const docLink = document.createElement('div');\n",
              "        docLink.innerHTML = docLinkHtml;\n",
              "        element.appendChild(docLink);\n",
              "      }\n",
              "    </script>\n",
              "  </div>\n",
              "\n",
              "\n",
              "<div id=\"df-db968ca9-5b83-450b-a7ca-c0e3557ef7a4\">\n",
              "  <button class=\"colab-df-quickchart\" onclick=\"quickchart('df-db968ca9-5b83-450b-a7ca-c0e3557ef7a4')\"\n",
              "            title=\"Suggest charts\"\n",
              "            style=\"display:none;\">\n",
              "\n",
              "<svg xmlns=\"http://www.w3.org/2000/svg\" height=\"24px\"viewBox=\"0 0 24 24\"\n",
              "     width=\"24px\">\n",
              "    <g>\n",
              "        <path d=\"M19 3H5c-1.1 0-2 .9-2 2v14c0 1.1.9 2 2 2h14c1.1 0 2-.9 2-2V5c0-1.1-.9-2-2-2zM9 17H7v-7h2v7zm4 0h-2V7h2v10zm4 0h-2v-4h2v4z\"/>\n",
              "    </g>\n",
              "</svg>\n",
              "  </button>\n",
              "\n",
              "<style>\n",
              "  .colab-df-quickchart {\n",
              "      --bg-color: #E8F0FE;\n",
              "      --fill-color: #1967D2;\n",
              "      --hover-bg-color: #E2EBFA;\n",
              "      --hover-fill-color: #174EA6;\n",
              "      --disabled-fill-color: #AAA;\n",
              "      --disabled-bg-color: #DDD;\n",
              "  }\n",
              "\n",
              "  [theme=dark] .colab-df-quickchart {\n",
              "      --bg-color: #3B4455;\n",
              "      --fill-color: #D2E3FC;\n",
              "      --hover-bg-color: #434B5C;\n",
              "      --hover-fill-color: #FFFFFF;\n",
              "      --disabled-bg-color: #3B4455;\n",
              "      --disabled-fill-color: #666;\n",
              "  }\n",
              "\n",
              "  .colab-df-quickchart {\n",
              "    background-color: var(--bg-color);\n",
              "    border: none;\n",
              "    border-radius: 50%;\n",
              "    cursor: pointer;\n",
              "    display: none;\n",
              "    fill: var(--fill-color);\n",
              "    height: 32px;\n",
              "    padding: 0;\n",
              "    width: 32px;\n",
              "  }\n",
              "\n",
              "  .colab-df-quickchart:hover {\n",
              "    background-color: var(--hover-bg-color);\n",
              "    box-shadow: 0 1px 2px rgba(60, 64, 67, 0.3), 0 1px 3px 1px rgba(60, 64, 67, 0.15);\n",
              "    fill: var(--button-hover-fill-color);\n",
              "  }\n",
              "\n",
              "  .colab-df-quickchart-complete:disabled,\n",
              "  .colab-df-quickchart-complete:disabled:hover {\n",
              "    background-color: var(--disabled-bg-color);\n",
              "    fill: var(--disabled-fill-color);\n",
              "    box-shadow: none;\n",
              "  }\n",
              "\n",
              "  .colab-df-spinner {\n",
              "    border: 2px solid var(--fill-color);\n",
              "    border-color: transparent;\n",
              "    border-bottom-color: var(--fill-color);\n",
              "    animation:\n",
              "      spin 1s steps(1) infinite;\n",
              "  }\n",
              "\n",
              "  @keyframes spin {\n",
              "    0% {\n",
              "      border-color: transparent;\n",
              "      border-bottom-color: var(--fill-color);\n",
              "      border-left-color: var(--fill-color);\n",
              "    }\n",
              "    20% {\n",
              "      border-color: transparent;\n",
              "      border-left-color: var(--fill-color);\n",
              "      border-top-color: var(--fill-color);\n",
              "    }\n",
              "    30% {\n",
              "      border-color: transparent;\n",
              "      border-left-color: var(--fill-color);\n",
              "      border-top-color: var(--fill-color);\n",
              "      border-right-color: var(--fill-color);\n",
              "    }\n",
              "    40% {\n",
              "      border-color: transparent;\n",
              "      border-right-color: var(--fill-color);\n",
              "      border-top-color: var(--fill-color);\n",
              "    }\n",
              "    60% {\n",
              "      border-color: transparent;\n",
              "      border-right-color: var(--fill-color);\n",
              "    }\n",
              "    80% {\n",
              "      border-color: transparent;\n",
              "      border-right-color: var(--fill-color);\n",
              "      border-bottom-color: var(--fill-color);\n",
              "    }\n",
              "    90% {\n",
              "      border-color: transparent;\n",
              "      border-bottom-color: var(--fill-color);\n",
              "    }\n",
              "  }\n",
              "</style>\n",
              "\n",
              "  <script>\n",
              "    async function quickchart(key) {\n",
              "      const quickchartButtonEl =\n",
              "        document.querySelector('#' + key + ' button');\n",
              "      quickchartButtonEl.disabled = true;  // To prevent multiple clicks.\n",
              "      quickchartButtonEl.classList.add('colab-df-spinner');\n",
              "      try {\n",
              "        const charts = await google.colab.kernel.invokeFunction(\n",
              "            'suggestCharts', [key], {});\n",
              "      } catch (error) {\n",
              "        console.error('Error during call to suggestCharts:', error);\n",
              "      }\n",
              "      quickchartButtonEl.classList.remove('colab-df-spinner');\n",
              "      quickchartButtonEl.classList.add('colab-df-quickchart-complete');\n",
              "    }\n",
              "    (() => {\n",
              "      let quickchartButtonEl =\n",
              "        document.querySelector('#df-db968ca9-5b83-450b-a7ca-c0e3557ef7a4 button');\n",
              "      quickchartButtonEl.style.display =\n",
              "        google.colab.kernel.accessAllowed ? 'block' : 'none';\n",
              "    })();\n",
              "  </script>\n",
              "</div>\n",
              "    </div>\n",
              "  </div>\n"
            ],
            "application/vnd.google.colaboratory.intrinsic+json": {
              "type": "dataframe",
              "summary": "{\n  \"name\": \"df_conclusiones4[df_conclusiones4['Porcentajes']>=70]\",\n  \"rows\": 10,\n  \"fields\": [\n    {\n      \"column\": \"Nombres\",\n      \"properties\": {\n        \"dtype\": \"category\",\n        \"num_unique_values\": 3,\n        \"samples\": [\n          \"Si\",\n          \"No\",\n          \"Mas de 3\"\n        ],\n        \"semantic_type\": \"\",\n        \"description\": \"\"\n      }\n    },\n    {\n      \"column\": \"Porcentajes\",\n      \"properties\": {\n        \"dtype\": \"number\",\n        \"std\": 9.532271373123208,\n        \"min\": 73.33333333333333,\n        \"max\": 100.0,\n        \"num_unique_values\": 4,\n        \"samples\": [\n          86.66666666666667,\n          73.33333333333333,\n          100.0\n        ],\n        \"semantic_type\": \"\",\n        \"description\": \"\"\n      }\n    }\n  ]\n}"
            }
          },
          "metadata": {},
          "execution_count": 63
        }
      ]
    },
    {
      "cell_type": "markdown",
      "source": [
        "Este clúster tiene un gran parecido con el clúster 2. Los atributos que más aparecen concuerdan entre ambos clústeres, las diferencias radican en la cantidad. El clúster 2 es menos diverso en aquellas variables beneficiosas para la prevención del síndrome, lo que hace que sea un grupo más sano. Por el contrario, el clúster 4, al tener una diversidad mayor, posee un mayor malestar, llegando a tener un porcentaje mucho más elevado de sentimiento de padecimiento."
      ],
      "metadata": {
        "id": "LwRI2eA5zzHd"
      }
    },
    {
      "cell_type": "markdown",
      "source": [
        "# Analisis variables\n",
        "\n",
        "En base a los patrones obtenidos a partir de los clústeres y del conocimiento de las causas del síndrome de burnout, se extrae el siguiente análisis de las variables.\n",
        "\n",
        "**Variables sin importancia:**\n",
        "\n",
        "Estas variables son aquellas que aparecen de manera repetitiva en todos y cada uno de los clústeres, siempre con el mismo atributo dominante, lo cual nos indica que no es un valor a tener en cuenta para la diferenciación o que la muestra poblacional obtenida está sesgada. Estas variables serán ignoradas para la predicción.\n",
        "* Gusto por estudios\n",
        "* Autonomía\n",
        "* Elección de estudios\n",
        "\n",
        "**Variables buenas para evitar burnout:**\n",
        "Estas variables son aquellas comunes entre los grupos 1 y 2 y que difieren de las variables sin importancia. Estas variables están asociadas al bienestar personal y a prevenir el síndrome de burnout. Además, estas variables son aquellas que en el clúster 4 se ven disminuidas y provocan un aumento en el malestar de la persona.\n",
        "* Comodo con compañeros - Si\n",
        "* Metodología - Si\n",
        "\n",
        "**Variables malas (provocan) burnout:**\n",
        "Estas variables son aquellas que, en primer lugar, son las más populares dentro del clúster 3, el cual claramente hace referencia a las causas del síndrome de burnout. Además, algunas de estas características también se encuentran en el clúster 4, que es el segundo más afectado.\n",
        "* Presión tareas - Si\n",
        "* Acompañado - No\n",
        "* Aprovechar el tiempo - No"
      ],
      "metadata": {
        "id": "RyOr0cEVuXv2"
      }
    },
    {
      "cell_type": "markdown",
      "source": [
        "# Regresión para la diferenciacion de clusteres"
      ],
      "metadata": {
        "id": "Htp__CkEPYYw"
      }
    },
    {
      "cell_type": "markdown",
      "source": [
        "A continuación, se va a realizar una regresión que busca predecir el clúster al que pertenece un individuo a partir de las características de la persona. El objetivo de este estudio es determinar cuáles son las variables que tienen más importancia o peso a la hora de seleccionar a qué clúster pertenece un individuo.\n",
        "\n",
        "Para ello se tomará un 80% de los datos para el entrenamiento de la regresión y un 20% para el testeo, con el fin de confirmar la adecuación de la regresión."
      ],
      "metadata": {
        "id": "B7-0qB1GPkIv"
      }
    },
    {
      "cell_type": "code",
      "source": [
        "# Supongamos que tienes tus datos en un DataFrame llamado df\n",
        "df_regresion = df.drop(columns=['Gustar.estudios', 'Autonomía', 'Eleccion.estudios', 'Burnout'])\n",
        "\n",
        "# Dividir los datos en características (X) y la variable objetivo (y)\n",
        "X = df_regresion.drop('cluster_label', axis=1)\n",
        "y = df_regresion['cluster_label'] - 1  # Restar 1 para que las etiquetas comiencen desde 0\n",
        "\n",
        "# Codificar las variables categóricas\n",
        "X_encoded = X.apply(LabelEncoder().fit_transform)\n",
        "\n",
        "# Dividir los datos en conjuntos de entrenamiento y prueba\n",
        "X_train, X_test, y_train, y_test = train_test_split(X_encoded, y, test_size=0.2, random_state=8)\n",
        "\n",
        "# Configurar el clasificador XGBoost\n",
        "model = xgb.XGBClassifier()\n",
        "\n",
        "# Entrenar el modelo\n",
        "model.fit(X_train, y_train)\n",
        "\n",
        "# Hacer predicciones en el conjunto de prueba\n",
        "predictions = model.predict(X_test)\n",
        "\n",
        "# Calcular la precisión del modelo\n",
        "accuracy = accuracy_score(y_test, predictions)\n",
        "print(\"Precisión del modelo:\", accuracy)"
      ],
      "metadata": {
        "colab": {
          "base_uri": "https://localhost:8080/"
        },
        "id": "Yq2b1qxSAXEP",
        "outputId": "a3e21736-36e7-4548-c8a7-75bfbb312d2f"
      },
      "execution_count": null,
      "outputs": [
        {
          "output_type": "stream",
          "name": "stdout",
          "text": [
            "Precisión del modelo: 0.9\n"
          ]
        }
      ]
    },
    {
      "cell_type": "markdown",
      "source": [
        "El modelo tiene una precisión del 90% de acierto sobre los datos de entrenamiento, lo que lo convierte en un buen modelo para predecir el clúster al que se pertenece.\n",
        "\n",
        "Para el análisis de las variables, se verá qué peso (porcentaje) tiene cada variable a la hora de determinar el valor del clúster en la regresión."
      ],
      "metadata": {
        "id": "RFzhFzHr7zof"
      }
    },
    {
      "cell_type": "code",
      "source": [
        "# Crear un DataFrame con los nombres de las características y su importancia\n",
        "feature_importance_df = pd.DataFrame({\n",
        "    'Feature': X_train.columns,\n",
        "    'Importance': model.feature_importances_\n",
        "})\n",
        "\n",
        "# Ordenar el DataFrame por importancia en orden descendente\n",
        "feature_importance_df = feature_importance_df.sort_values(by='Importance', ascending=False)\n",
        "\n",
        "# Mostrar el DataFrame\n",
        "print(feature_importance_df)"
      ],
      "metadata": {
        "colab": {
          "base_uri": "https://localhost:8080/"
        },
        "id": "AYEo44P-GWNt",
        "outputId": "dc621eb8-6d96-461c-e27b-7c3bb792b9dc"
      },
      "execution_count": null,
      "outputs": [
        {
          "output_type": "stream",
          "name": "stdout",
          "text": [
            "                 Feature  Importance\n",
            "2      Aprovechar.tiempo    0.167105\n",
            "6      Dormir.suficiente    0.139325\n",
            "4      Comodo.compañeros    0.095481\n",
            "5            Horas.sueño    0.085097\n",
            "1             Motivacion    0.065372\n",
            "7       Comidias.diarias    0.060492\n",
            "12            Acompañado    0.060109\n",
            "8    Bebidas.energéticas    0.057703\n",
            "0          Estudiante.42    0.056706\n",
            "11           Metodología    0.053153\n",
            "10       Tiempo.estudios    0.049047\n",
            "9       Actividad.fisica    0.041889\n",
            "13  Ambiente.competitivo    0.023491\n",
            "3           Organizacion    0.018919\n",
            "14    Comodo.competicion    0.014933\n",
            "15        Presion.tareas    0.011180\n"
          ]
        }
      ]
    },
    {
      "cell_type": "markdown",
      "source": [
        "Se tiene que los dos valores más significativos son si se siente que se pierde el tiempo o si se ha dormido lo suficiente. Estos factores están estrechamente ligados con las causas del síndrome, siendo al final el sentimiento de la pérdida de tiempo una expresión del desánimo, y el tiempo de descanso, el cual es vital para el bienestar de la persona.\n",
        "\n",
        "Por otro lado, aunque con algo menos de importancia, se tienen la comodidad con los compañeros y las horas de sueño. Las horas de sueño están totalmente correlacionadas con el considerar si se duerme suficiente, mientras que el contacto social y la comodidad son constantes y necesarias en la vida humana para su desarrollo y felicidad."
      ],
      "metadata": {
        "id": "-ISoRTNE8RFY"
      }
    },
    {
      "cell_type": "markdown",
      "source": [
        "# Regresión para la clasificación del sindrome"
      ],
      "metadata": {
        "id": "Gv3ysb13PraB"
      }
    },
    {
      "cell_type": "markdown",
      "source": [
        "Para confirmar la adecuación de las conclusiones obtenidas, es necesario evaluar el método de clúster. Para ello, se va a realizar una regresión para predecir el síndrome, considerando el clúster al que se pertenece. El objetivo es obtener un modelo que sea efectivo y en el que la variable clúster sea importante.\n",
        "\n",
        "Para la metodología se aplicará el mismo sistema que en el caso anterior: un 80% de entrenamiento y un 20% de testeo."
      ],
      "metadata": {
        "id": "ha8qONCV_4WV"
      }
    },
    {
      "cell_type": "code",
      "source": [
        "# Supongamos que tienes tus datos en un DataFrame llamado df\n",
        "df_regresion = df.drop(columns=['Gustar.estudios', 'Autonomía', 'Eleccion.estudios'])\n",
        "\n",
        "# Dividir los datos en características (X) y la variable objetivo (y)\n",
        "X = df_regresion.drop('Burnout', axis=1)\n",
        "y = df_regresion['Burnout']\n",
        "\n",
        "# Crear un objeto LabelEncoder y ajustarlo a las etiquetas de clase\n",
        "label_encoder = LabelEncoder()\n",
        "y_encoded = label_encoder.fit_transform(y)\n",
        "\n",
        "# Codificar las variables categóricas en las características\n",
        "X_encoded = X.apply(LabelEncoder().fit_transform)\n",
        "\n",
        "# Dividir los datos en conjuntos de entrenamiento y prueba\n",
        "X_train, X_test, y_train, y_test = train_test_split(X_encoded, y_encoded, test_size=0.2, random_state=7)\n",
        "\n",
        "# Configurar el clasificador XGBoost\n",
        "model = xgb.XGBClassifier()\n",
        "\n",
        "# Entrenar el modelo\n",
        "model.fit(X_train, y_train)\n",
        "\n",
        "# Hacer predicciones en el conjunto de prueba\n",
        "predictions = model.predict(X_test)\n",
        "\n",
        "# Calcular la precisión del modelo\n",
        "accuracy = accuracy_score(y_test, predictions)\n",
        "print(\"Precisión del modelo:\", accuracy)"
      ],
      "metadata": {
        "colab": {
          "base_uri": "https://localhost:8080/"
        },
        "outputId": "d662f2f8-36fd-434c-9dd7-647799b0606a",
        "id": "1C3q5fA5Pyt9"
      },
      "execution_count": null,
      "outputs": [
        {
          "output_type": "stream",
          "name": "stdout",
          "text": [
            "Precisión del modelo: 0.8\n"
          ]
        }
      ]
    },
    {
      "cell_type": "markdown",
      "source": [
        "El modelo obtenido predice correctamente el 80% de los datos de test, por lo que se considera un modelo adecuado para la predicción del sentimiento de padecer el síndrome de burnout. A continuación, procederemos a analizar la importancia de las variables en el modelo."
      ],
      "metadata": {
        "id": "Lsmazo8bApqc"
      }
    },
    {
      "cell_type": "code",
      "source": [
        "# Crear un DataFrame con los nombres de las características y su importancia\n",
        "feature_importance_df = pd.DataFrame({\n",
        "    'Feature': X_train.columns,\n",
        "    'Importance': model.feature_importances_\n",
        "})\n",
        "\n",
        "# Ordenar el DataFrame por importancia en orden descendente\n",
        "feature_importance_df = feature_importance_df.sort_values(by='Importance', ascending=False)\n",
        "\n",
        "# Mostrar el DataFrame\n",
        "print(feature_importance_df)"
      ],
      "metadata": {
        "colab": {
          "base_uri": "https://localhost:8080/"
        },
        "outputId": "62ba9320-a2cc-4508-9740-1bfe859050bf",
        "id": "6L50iZj2Pyt-"
      },
      "execution_count": null,
      "outputs": [
        {
          "output_type": "stream",
          "name": "stdout",
          "text": [
            "                 Feature  Importance\n",
            "16         cluster_label    0.143195\n",
            "1             Motivacion    0.095300\n",
            "0          Estudiante.42    0.091701\n",
            "15        Presion.tareas    0.073922\n",
            "3           Organizacion    0.072577\n",
            "7       Comidias.diarias    0.068843\n",
            "12            Acompañado    0.066791\n",
            "11           Metodología    0.053454\n",
            "10       Tiempo.estudios    0.053176\n",
            "2      Aprovechar.tiempo    0.052691\n",
            "5            Horas.sueño    0.048756\n",
            "14    Comodo.competicion    0.047809\n",
            "8    Bebidas.energéticas    0.037848\n",
            "9       Actividad.fisica    0.037732\n",
            "6      Dormir.suficiente    0.030438\n",
            "13  Ambiente.competitivo    0.025768\n",
            "4      Comodo.compañeros    0.000000\n"
          ]
        }
      ]
    },
    {
      "cell_type": "markdown",
      "source": [
        "La variable más importante en esta predicción es el cluster_label, con un nivel significativamente mayor al resto. Esto nos indica que es la variable más relacionada con el síndrome y que se pueden sacar conclusiones validas a partir de la agrupación."
      ],
      "metadata": {
        "id": "wBuz-wlBBT8T"
      }
    },
    {
      "cell_type": "markdown",
      "source": [
        "#Análisis metodología universitaria clasica y de 42"
      ],
      "metadata": {
        "id": "ilo6tfhtPKdo"
      }
    },
    {
      "cell_type": "markdown",
      "source": [
        "Como análisis secundario, se tiene la comparación entre el método universitario convencional y el método pair to pair de 42. El enfoque de esta comparación será determinar si alguna de las metodologías favorece a sus estudiantes para evitar padecer del síndrome de burnout.\n",
        "\n",
        "Para ello se van a analizar los porcentajes de personas universitarias y de 42 acerca de su opinión sobre si padecen el síndrome. Cada clúster ha sido validado como correcto, por lo que se espera un análisis adecuado."
      ],
      "metadata": {
        "id": "S0Wz3rdvCrrG"
      }
    },
    {
      "cell_type": "markdown",
      "source": [
        "**Base de datos total**"
      ],
      "metadata": {
        "id": "2DfEJt2APQbw"
      }
    },
    {
      "cell_type": "code",
      "source": [
        "df_42 = df[df['Estudiante.42'] == 'Si']\n",
        "print('Estudiantes 42 con Burnout --> {:.0f}%'.format(len(df_42[df_42['Burnout'] == 'Si'])/len(df_42)*100))\n",
        "df_uni = df[df['Estudiante.42'] == 'No']\n",
        "print('Estudiantes universitarios con Burnout --> {:.0f}%'.format(len(df_uni[df_uni['Burnout'] == 'Si'])/len(df_uni)*100))"
      ],
      "metadata": {
        "colab": {
          "base_uri": "https://localhost:8080/"
        },
        "id": "gMHFsptkF4mr",
        "outputId": "563e7414-e372-4b03-f32d-37d7228c2963"
      },
      "execution_count": null,
      "outputs": [
        {
          "output_type": "stream",
          "name": "stdout",
          "text": [
            "Estudiantes 42 con Burnout --> 23%\n",
            "Estudiantes universitarios con Burnout --> 38%\n"
          ]
        }
      ]
    },
    {
      "cell_type": "markdown",
      "source": [
        "**Cluster 1**"
      ],
      "metadata": {
        "id": "1BYi2kcaPR5k"
      }
    },
    {
      "cell_type": "code",
      "source": [
        "df_42 = df_cluster1[df_cluster1['Estudiante.42'] == 'Si']\n",
        "print('Estudiantes 42 con Burnout --> {:.0f}%'.format(len(df_42[df_42['Burnout'] == 'Si'])/len(df_42)*100))\n",
        "df_uni = df_cluster1[df_cluster1['Estudiante.42'] == 'No']\n",
        "print('Estudiantes universitarios con Burnout --> {:.0f}%'.format(len(df_uni[df_uni['Burnout'] == 'Si'])/len(df_uni)*100))"
      ],
      "metadata": {
        "colab": {
          "base_uri": "https://localhost:8080/"
        },
        "id": "cfabpbKLHFi_",
        "outputId": "da559607-f61e-4b4e-bf90-0fff7be05e1f"
      },
      "execution_count": null,
      "outputs": [
        {
          "output_type": "stream",
          "name": "stdout",
          "text": [
            "Estudiantes 42 con Burnout --> 19%\n",
            "Estudiantes universitarios con Burnout --> 12%\n"
          ]
        }
      ]
    },
    {
      "cell_type": "markdown",
      "source": [
        "**Cluster 2**"
      ],
      "metadata": {
        "id": "prXOwmC0PTN1"
      }
    },
    {
      "cell_type": "code",
      "source": [
        "df_42 = df_cluster2[df_cluster2['Estudiante.42'] == 'Si']\n",
        "print('Estudiantes 42 con Burnout --> {:.0f}%'.format(len(df_42[df_42['Burnout'] == 'Si'])/len(df_42)*100))\n",
        "df_uni = df_cluster2[df_cluster2['Estudiante.42'] == 'No']\n",
        "print('Estudiantes universitarios con Burnout --> {:.0f}%'.format(len(df_uni[df_uni['Burnout'] == 'Si'])/len(df_uni)*100))"
      ],
      "metadata": {
        "colab": {
          "base_uri": "https://localhost:8080/"
        },
        "id": "KeU63tb4ISef",
        "outputId": "94996aa2-7742-4f6e-867e-8894ee93a755"
      },
      "execution_count": null,
      "outputs": [
        {
          "output_type": "stream",
          "name": "stdout",
          "text": [
            "Estudiantes 42 con Burnout --> 14%\n",
            "Estudiantes universitarios con Burnout --> 30%\n"
          ]
        }
      ]
    },
    {
      "cell_type": "markdown",
      "source": [
        "**Cluster 3**"
      ],
      "metadata": {
        "id": "GwGFeA-UPVSo"
      }
    },
    {
      "cell_type": "code",
      "source": [
        "df_42 = df_cluster3[df_cluster3['Estudiante.42'] == 'Si']\n",
        "print('Estudiantes 42 con Burnout --> {:.0f}%'.format(len(df_42[df_42['Burnout'] == 'Si'])/len(df_42)*100))\n",
        "df_uni = df_cluster3[df_cluster3['Estudiante.42'] == 'No']\n",
        "print('Estudiantes universitarios con Burnout --> {:.0f}%'.format(len(df_uni[df_uni['Burnout'] == 'Si'])/len(df_uni)*100))"
      ],
      "metadata": {
        "colab": {
          "base_uri": "https://localhost:8080/"
        },
        "id": "Ta2ZQseeIWGK",
        "outputId": "2315b7af-63de-4422-ff7e-927fbc0ca0c2"
      },
      "execution_count": null,
      "outputs": [
        {
          "output_type": "stream",
          "name": "stdout",
          "text": [
            "Estudiantes 42 con Burnout --> 67%\n",
            "Estudiantes universitarios con Burnout --> 88%\n"
          ]
        }
      ]
    },
    {
      "cell_type": "markdown",
      "source": [
        "**Cluster 4**"
      ],
      "metadata": {
        "id": "E3rDEcijPWd4"
      }
    },
    {
      "cell_type": "code",
      "source": [
        "df_42 = df_cluster4[df_cluster4['Estudiante.42'] == 'Si']\n",
        "print('Estudiantes 42 con Burnout --> {:.0f}%'.format(len(df_42[df_42['Burnout'] == 'Si'])/len(df_42)*100))\n",
        "df_uni = df_cluster4[df_cluster4['Estudiante.42'] == 'No']\n",
        "print('Estudiantes universitarios con Burnout --> {:.0f}%'.format(len(df_uni[df_uni['Burnout'] == 'Si'])/len(df_uni)*100))"
      ],
      "metadata": {
        "colab": {
          "base_uri": "https://localhost:8080/"
        },
        "id": "-xKV-rEYZgnf",
        "outputId": "5250449c-d7fa-4eda-d6d1-b6a2eec9d23b"
      },
      "execution_count": null,
      "outputs": [
        {
          "output_type": "stream",
          "name": "stdout",
          "text": [
            "Estudiantes 42 con Burnout --> 50%\n",
            "Estudiantes universitarios con Burnout --> 45%\n"
          ]
        }
      ]
    },
    {
      "cell_type": "markdown",
      "source": [
        "De esta forma, se observa que hay cierto equilibrio entre ambas metodologías. Dependiendo del clúster en el que se esté, hay un porcentaje más alto en uno u otro subgrupo, por lo que se descarta el hecho de que la metodología sea un parámetro clave. Sin embargo, sí se observa una ligera influencia. Si se analiza de manera más profunda, se observa que en el formato general de 42 hay un 15% menos de burnout que en las universidades. Estos datos también se reflejan en los clústeres, ya que cuando 42 tiene un mayor índice, este es pequeño, menor del 10%. En cambio, cuando las universidades tienen un índice mayor, este es mucho mayor que en 42, como se puede ver en el clúster 3, con una diferencia del 21%.\n",
        "\n",
        "De esta manera, se tiene que la metodología de 42 afecta de manera positiva para evitar el síndrome de burnout, aunque no de manera significativa. Los estudiantes en 42 suelen estar más contentos con el ambiente, su salud personal y su ánimo, lo cual incide un menor riesgo de padecer el síndrome de burnout."
      ],
      "metadata": {
        "id": "57iLtNhYMCKK"
      }
    }
  ]
}